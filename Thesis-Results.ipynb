{
  "nbformat": 4,
  "nbformat_minor": 0,
  "metadata": {
    "colab": {
      "name": "LastModif.ipynb",
      "provenance": [],
      "collapsed_sections": [
        "4GifqJ79r-C0",
        "U2I3624EDj1A",
        "GFCJqR1AEVtS"
      ]
    },
    "kernelspec": {
      "display_name": "Python 3",
      "name": "python3"
    },
    "language_info": {
      "name": "python"
    }
  },
  "cells": [
    {
      "cell_type": "code",
      "metadata": {
        "id": "e3JdHn67n-EN"
      },
      "source": [
        "import pandas as pd\n",
        "import numpy as np\n",
        "import json\n",
        "from sklearn.model_selection import cross_val_score\n",
        "from sklearn.tree import DecisionTreeClassifier\n",
        "from sklearn.ensemble import RandomForestClassifier\n",
        "from sklearn.datasets import make_classification\n",
        "from sklearn.neural_network import MLPClassifier\n",
        "from six import StringIO\n",
        "from sklearn.model_selection import train_test_split\n",
        "import pydot\n",
        "import pydotplus\n",
        "from sklearn.neighbors import KNeighborsClassifier\n",
        "from sklearn.model_selection import GridSearchCV\n",
        "from sklearn.preprocessing import StandardScaler\n",
        "from sklearn.preprocessing import MinMaxScaler\n",
        "from sklearn.preprocessing import KBinsDiscretizer\n",
        "import matplotlib.pyplot as plt\n",
        "from sklearn.metrics import accuracy_score\n",
        "from graphviz import Source\n",
        "from sklearn import tree\n",
        "from sklearn.svm import SVC\n",
        "from sklearn.pipeline import make_pipeline\n",
        "from sklearn import linear_model\n",
        "from sklearn.linear_model import LinearRegression\n",
        "from sklearn.metrics import mean_squared_error\n",
        "from sklearn.metrics import r2_score\n",
        "from sklearn.linear_model import SGDRegressor"
      ],
      "execution_count": 2,
      "outputs": []
    },
    {
      "cell_type": "code",
      "metadata": {
        "colab": {
          "base_uri": "https://localhost:8080/"
        },
        "id": "qHiL78qToFB6",
        "outputId": "2c09cba2-4457-4ca8-f31c-f4ff7d511331"
      },
      "source": [
        "from google.colab import drive\n",
        "drive.mount('/content/drive')"
      ],
      "execution_count": 3,
      "outputs": [
        {
          "output_type": "stream",
          "text": [
            "Drive already mounted at /content/drive; to attempt to forcibly remount, call drive.mount(\"/content/drive\", force_remount=True).\n"
          ],
          "name": "stdout"
        }
      ]
    },
    {
      "cell_type": "code",
      "metadata": {
        "colab": {
          "base_uri": "https://localhost:8080/"
        },
        "id": "-Xi9q93eoG5z",
        "outputId": "9c78ad54-581a-4d82-9740-92094f079774"
      },
      "source": [
        "copied_path = 'drive/MyDrive/FinalDataSet.csv' #remove ‘content/’ from path then use \n",
        "data = pd.read_csv(copied_path,dtype={'Sourceid':np.object_})\n",
        "data = data.drop(['Unnamed: 0'], axis=1)"
      ],
      "execution_count": 4,
      "outputs": [
        {
          "output_type": "stream",
          "text": [
            "/usr/local/lib/python3.7/dist-packages/IPython/core/interactiveshell.py:2718: DtypeWarning: Columns (4,8,9,16,27,28,29,36,38) have mixed types.Specify dtype option on import or set low_memory=False.\n",
            "  interactivity=interactivity, compiler=compiler, result=result)\n"
          ],
          "name": "stderr"
        }
      ]
    },
    {
      "cell_type": "code",
      "metadata": {
        "id": "pBvwcfwuoIUq"
      },
      "source": [
        "#Change the types\n",
        "data['year'] = data['year'].apply(lambda x: pd.to_numeric(x, errors='coerce'))\n",
        "data['issue'] = data['issue'].apply(lambda x: pd.to_numeric(x, errors='coerce'))\n",
        "data['volume'] = data['volume'].apply(lambda x: pd.to_numeric(x, errors='coerce'))\n",
        "data = data[(data.doc_type == \"Journal\") | (data.doc_type == \"Conference\")]\n",
        "data['publisher'] = data['publisher'].astype(\"string\")\n",
        "data['Rank'] = data['Rank'].astype(int)\n",
        "data['Country'] = data['Country'].astype(\"string\")\n",
        "data['Region'] = data['Region'].astype(\"string\")\n",
        "data['Title'] = data['Title'].astype(\"string\")\n",
        "data['nb_authors'] = data['nb_authors'].astype(int)\n",
        "data['pages'] = data['pages'].astype(int)\n",
        "data['year'] = data['year'].astype(int)\n",
        "data['author1'] = data['author1'].astype(\"string\")\n",
        "data['index_length'] = data['index_length'].astype(float)\n",
        "data['first_common'] = data['first_common'].astype(\"string\")\n",
        "data['second_common'] = data['second_common'].astype(\"string\")\n",
        "data['third_common'] = data['third_common'].astype(\"string\")\n",
        "data['fourth_common'] = data['fourth_common'].astype(\"string\")\n",
        "data['nb_references'] = data['nb_references'].astype(float)\n",
        "data['Main_fos'] = data['Main_fos'].astype(\"string\")"
      ],
      "execution_count": 5,
      "outputs": []
    },
    {
      "cell_type": "code",
      "metadata": {
        "id": "nW94E-bsqnHS"
      },
      "source": [
        "#drop null values\n",
        "data = data.dropna(subset=['Main_fos', 'first_common','publisher'])"
      ],
      "execution_count": 6,
      "outputs": []
    },
    {
      "cell_type": "code",
      "metadata": {
        "id": "H_klNHaroYZj"
      },
      "source": [
        "#create frequency columns\n",
        "vc_item1_fos = data['Main_fos'].value_counts()\n",
        "data['fos_pop'] = data['Main_fos'].apply(lambda x: vc_item1_fos[x])\n",
        "\n",
        "vc_item1_fc = data['first_common'].value_counts()\n",
        "data['fc_pop'] = data['first_common'].apply(lambda x: vc_item1_fc[x])"
      ],
      "execution_count": 7,
      "outputs": []
    },
    {
      "cell_type": "code",
      "metadata": {
        "id": "aLqUQzJ-sdGa"
      },
      "source": [
        "### Doctype as dummy\n",
        "from sklearn.preprocessing import OneHotEncoder\n",
        "enc = OneHotEncoder(sparse=False)\n",
        "data.iloc[:,5]=enc.fit_transform(data[[\"doc_type\"]])[:,0]\n",
        "data['doc_type'] = data['doc_type'].astype(int)"
      ],
      "execution_count": 8,
      "outputs": []
    },
    {
      "cell_type": "code",
      "metadata": {
        "id": "zH-O5mWEy1WU",
        "colab": {
          "base_uri": "https://localhost:8080/",
          "height": 883
        },
        "outputId": "40c9115b-112c-4999-a0f1-fe0e2fdd3a3f"
      },
      "source": [
        "data.n_citation.value_counts()[:100].sort_index().plot(kind=\"line\", figsize = (15,15))"
      ],
      "execution_count": 9,
      "outputs": [
        {
          "output_type": "execute_result",
          "data": {
            "text/plain": [
              "<matplotlib.axes._subplots.AxesSubplot at 0x7f2c4dc0a6d0>"
            ]
          },
          "metadata": {
            "tags": []
          },
          "execution_count": 9
        },
        {
          "output_type": "display_data",
          "data": {
            "image/png": "[encoded data removed]",
            "text/plain": [
              "<Figure size 1080x1080 with 1 Axes>"
            ]
          },
          "metadata": {
            "tags": [],
            "needs_background": "light"
          }
        }
      ]
    },
    {
      "cell_type": "markdown",
      "metadata": {
        "id": "IXMfeeypi0ZY"
      },
      "source": [
        "# **Cleaning**"
      ]
    },
    {
      "cell_type": "code",
      "metadata": {
        "id": "MDDyENInuQmA"
      },
      "source": [
        "col_data = data[['year', 'n_citation', 'doc_type','volume', 'issue','H index','Total Refs.',\n",
        "       'Country', 'pages','nb_authors','index_length', 'fc_pop', 'nb_references',\n",
        "       'fos_pop']]"
      ],
      "execution_count": 10,
      "outputs": []
    },
    {
      "cell_type": "code",
      "metadata": {
        "colab": {
          "base_uri": "https://localhost:8080/"
        },
        "id": "Izl1uxpD3NzH",
        "outputId": "5dd660da-0470-48dc-f936-fc9504c75b1f"
      },
      "source": [
        "#Replacing NaN values with median\n",
        "median = col_data.loc[col_data['issue']<100000, 'issue'].median()\n",
        "col_data[\"issue\"] = np.where(col_data[\"issue\"] >100000, median,col_data['issue'])\n",
        "col_data['issue'] = col_data['issue'].fillna(col_data['issue'].median())\n",
        "\n",
        "median = col_data.loc[col_data['volume']<100000, 'volume'].median()\n",
        "col_data[\"volume\"] = np.where(col_data[\"volume\"] >100000, median,col_data['volume'])\n",
        "col_data['volume'] = col_data['volume'].fillna(col_data['volume'].median())\n",
        "\n",
        "median = col_data.loc[col_data['nb_references']<100000, 'nb_references'].median()\n",
        "col_data[\"nb_references\"] = np.where(col_data[\"nb_references\"] >100000, median,col_data['nb_references'])\n",
        "col_data['nb_references'] = col_data['nb_references'].fillna(col_data['nb_references'].median())"
      ],
      "execution_count": 11,
      "outputs": [
        {
          "output_type": "stream",
          "text": [
            "/usr/local/lib/python3.7/dist-packages/ipykernel_launcher.py:3: SettingWithCopyWarning: \n",
            "A value is trying to be set on a copy of a slice from a DataFrame.\n",
            "Try using .loc[row_indexer,col_indexer] = value instead\n",
            "\n",
            "See the caveats in the documentation: https://pandas.pydata.org/pandas-docs/stable/user_guide/indexing.html#returning-a-view-versus-a-copy\n",
            "  This is separate from the ipykernel package so we can avoid doing imports until\n",
            "/usr/local/lib/python3.7/dist-packages/ipykernel_launcher.py:4: SettingWithCopyWarning: \n",
            "A value is trying to be set on a copy of a slice from a DataFrame.\n",
            "Try using .loc[row_indexer,col_indexer] = value instead\n",
            "\n",
            "See the caveats in the documentation: https://pandas.pydata.org/pandas-docs/stable/user_guide/indexing.html#returning-a-view-versus-a-copy\n",
            "  after removing the cwd from sys.path.\n",
            "/usr/local/lib/python3.7/dist-packages/ipykernel_launcher.py:7: SettingWithCopyWarning: \n",
            "A value is trying to be set on a copy of a slice from a DataFrame.\n",
            "Try using .loc[row_indexer,col_indexer] = value instead\n",
            "\n",
            "See the caveats in the documentation: https://pandas.pydata.org/pandas-docs/stable/user_guide/indexing.html#returning-a-view-versus-a-copy\n",
            "  import sys\n",
            "/usr/local/lib/python3.7/dist-packages/ipykernel_launcher.py:8: SettingWithCopyWarning: \n",
            "A value is trying to be set on a copy of a slice from a DataFrame.\n",
            "Try using .loc[row_indexer,col_indexer] = value instead\n",
            "\n",
            "See the caveats in the documentation: https://pandas.pydata.org/pandas-docs/stable/user_guide/indexing.html#returning-a-view-versus-a-copy\n",
            "  \n",
            "/usr/local/lib/python3.7/dist-packages/ipykernel_launcher.py:11: SettingWithCopyWarning: \n",
            "A value is trying to be set on a copy of a slice from a DataFrame.\n",
            "Try using .loc[row_indexer,col_indexer] = value instead\n",
            "\n",
            "See the caveats in the documentation: https://pandas.pydata.org/pandas-docs/stable/user_guide/indexing.html#returning-a-view-versus-a-copy\n",
            "  # This is added back by InteractiveShellApp.init_path()\n",
            "/usr/local/lib/python3.7/dist-packages/ipykernel_launcher.py:12: SettingWithCopyWarning: \n",
            "A value is trying to be set on a copy of a slice from a DataFrame.\n",
            "Try using .loc[row_indexer,col_indexer] = value instead\n",
            "\n",
            "See the caveats in the documentation: https://pandas.pydata.org/pandas-docs/stable/user_guide/indexing.html#returning-a-view-versus-a-copy\n",
            "  if sys.path[0] == '':\n"
          ],
          "name": "stderr"
        }
      ]
    },
    {
      "cell_type": "code",
      "metadata": {
        "colab": {
          "base_uri": "https://localhost:8080/",
          "height": 323
        },
        "id": "7vJ6dXFvuepM",
        "outputId": "e839c429-b0b5-4db4-b7a1-3f50fbe49e30"
      },
      "source": [
        "#Get country dummies to make it usable\n",
        "country_dummies = col_data.Country.str.get_dummies()\n",
        "all_df = [col_data,country_dummies]\n",
        "data_dummies = pd.concat(all_df, axis=1)\n",
        "data_dummies.head()"
      ],
      "execution_count": 12,
      "outputs": [
        {
          "output_type": "execute_result",
          "data": {
            "text/html": [
              "<div>\n",
              "<style scoped>\n",
              "    .dataframe tbody tr th:only-of-type {\n",
              "        vertical-align: middle;\n",
              "    }\n",
              "\n",
              "    .dataframe tbody tr th {\n",
              "        vertical-align: top;\n",
              "    }\n",
              "\n",
              "    .dataframe thead th {\n",
              "        text-align: right;\n",
              "    }\n",
              "</style>\n",
              "<table border=\"1\" class=\"dataframe\">\n",
              "  <thead>\n",
              "    <tr style=\"text-align: right;\">\n",
              "      <th></th>\n",
              "      <th>year</th>\n",
              "      <th>n_citation</th>\n",
              "      <th>doc_type</th>\n",
              "      <th>volume</th>\n",
              "      <th>issue</th>\n",
              "      <th>H index</th>\n",
              "      <th>Total Refs.</th>\n",
              "      <th>Country</th>\n",
              "      <th>pages</th>\n",
              "      <th>nb_authors</th>\n",
              "      <th>index_length</th>\n",
              "      <th>fc_pop</th>\n",
              "      <th>nb_references</th>\n",
              "      <th>fos_pop</th>\n",
              "      <th>Australia</th>\n",
              "      <th>Austria</th>\n",
              "      <th>Brazil</th>\n",
              "      <th>Canada</th>\n",
              "      <th>Chile</th>\n",
              "      <th>China</th>\n",
              "      <th>Czech Republic</th>\n",
              "      <th>Denmark</th>\n",
              "      <th>Egypt</th>\n",
              "      <th>France</th>\n",
              "      <th>Germany</th>\n",
              "      <th>Hong Kong</th>\n",
              "      <th>Hungary</th>\n",
              "      <th>India</th>\n",
              "      <th>Indonesia</th>\n",
              "      <th>Ireland</th>\n",
              "      <th>Italy</th>\n",
              "      <th>Japan</th>\n",
              "      <th>Netherlands</th>\n",
              "      <th>Poland</th>\n",
              "      <th>Portugal</th>\n",
              "      <th>Russian Federation</th>\n",
              "      <th>Serbia</th>\n",
              "      <th>Singapore</th>\n",
              "      <th>Slovenia</th>\n",
              "      <th>South Africa</th>\n",
              "      <th>South Korea</th>\n",
              "      <th>Spain</th>\n",
              "      <th>Sweden</th>\n",
              "      <th>Switzerland</th>\n",
              "      <th>Taiwan</th>\n",
              "      <th>Turkey</th>\n",
              "      <th>Ukraine</th>\n",
              "      <th>United Arab Emirates</th>\n",
              "      <th>United Kingdom</th>\n",
              "      <th>United States</th>\n",
              "    </tr>\n",
              "  </thead>\n",
              "  <tbody>\n",
              "    <tr>\n",
              "      <th>0</th>\n",
              "      <td>1995</td>\n",
              "      <td>22276</td>\n",
              "      <td>0</td>\n",
              "      <td>20.0</td>\n",
              "      <td>3.0</td>\n",
              "      <td>152.0</td>\n",
              "      <td>4124.0</td>\n",
              "      <td>Netherlands</td>\n",
              "      <td>25</td>\n",
              "      <td>2</td>\n",
              "      <td>122.0</td>\n",
              "      <td>1</td>\n",
              "      <td>3.0</td>\n",
              "      <td>47</td>\n",
              "      <td>0</td>\n",
              "      <td>0</td>\n",
              "      <td>0</td>\n",
              "      <td>0</td>\n",
              "      <td>0</td>\n",
              "      <td>0</td>\n",
              "      <td>0</td>\n",
              "      <td>0</td>\n",
              "      <td>0</td>\n",
              "      <td>0</td>\n",
              "      <td>0</td>\n",
              "      <td>0</td>\n",
              "      <td>0</td>\n",
              "      <td>0</td>\n",
              "      <td>0</td>\n",
              "      <td>0</td>\n",
              "      <td>0</td>\n",
              "      <td>0</td>\n",
              "      <td>1</td>\n",
              "      <td>0</td>\n",
              "      <td>0</td>\n",
              "      <td>0</td>\n",
              "      <td>0</td>\n",
              "      <td>0</td>\n",
              "      <td>0</td>\n",
              "      <td>0</td>\n",
              "      <td>0</td>\n",
              "      <td>0</td>\n",
              "      <td>0</td>\n",
              "      <td>0</td>\n",
              "      <td>0</td>\n",
              "      <td>0</td>\n",
              "      <td>0</td>\n",
              "      <td>0</td>\n",
              "      <td>0</td>\n",
              "      <td>0</td>\n",
              "    </tr>\n",
              "    <tr>\n",
              "      <th>1</th>\n",
              "      <td>2009</td>\n",
              "      <td>20162</td>\n",
              "      <td>0</td>\n",
              "      <td>25.0</td>\n",
              "      <td>16.0</td>\n",
              "      <td>390.0</td>\n",
              "      <td>29619.0</td>\n",
              "      <td>United Kingdom</td>\n",
              "      <td>2</td>\n",
              "      <td>9</td>\n",
              "      <td>89.0</td>\n",
              "      <td>14</td>\n",
              "      <td>8.0</td>\n",
              "      <td>3</td>\n",
              "      <td>0</td>\n",
              "      <td>0</td>\n",
              "      <td>0</td>\n",
              "      <td>0</td>\n",
              "      <td>0</td>\n",
              "      <td>0</td>\n",
              "      <td>0</td>\n",
              "      <td>0</td>\n",
              "      <td>0</td>\n",
              "      <td>0</td>\n",
              "      <td>0</td>\n",
              "      <td>0</td>\n",
              "      <td>0</td>\n",
              "      <td>0</td>\n",
              "      <td>0</td>\n",
              "      <td>0</td>\n",
              "      <td>0</td>\n",
              "      <td>0</td>\n",
              "      <td>0</td>\n",
              "      <td>0</td>\n",
              "      <td>0</td>\n",
              "      <td>0</td>\n",
              "      <td>0</td>\n",
              "      <td>0</td>\n",
              "      <td>0</td>\n",
              "      <td>0</td>\n",
              "      <td>0</td>\n",
              "      <td>0</td>\n",
              "      <td>0</td>\n",
              "      <td>0</td>\n",
              "      <td>0</td>\n",
              "      <td>0</td>\n",
              "      <td>0</td>\n",
              "      <td>0</td>\n",
              "      <td>1</td>\n",
              "      <td>0</td>\n",
              "    </tr>\n",
              "    <tr>\n",
              "      <th>2</th>\n",
              "      <td>2003</td>\n",
              "      <td>19392</td>\n",
              "      <td>0</td>\n",
              "      <td>3.0</td>\n",
              "      <td>3.0</td>\n",
              "      <td>230.0</td>\n",
              "      <td>13524.0</td>\n",
              "      <td>United States</td>\n",
              "      <td>30</td>\n",
              "      <td>3</td>\n",
              "      <td>120.0</td>\n",
              "      <td>376</td>\n",
              "      <td>11.0</td>\n",
              "      <td>87</td>\n",
              "      <td>0</td>\n",
              "      <td>0</td>\n",
              "      <td>0</td>\n",
              "      <td>0</td>\n",
              "      <td>0</td>\n",
              "      <td>0</td>\n",
              "      <td>0</td>\n",
              "      <td>0</td>\n",
              "      <td>0</td>\n",
              "      <td>0</td>\n",
              "      <td>0</td>\n",
              "      <td>0</td>\n",
              "      <td>0</td>\n",
              "      <td>0</td>\n",
              "      <td>0</td>\n",
              "      <td>0</td>\n",
              "      <td>0</td>\n",
              "      <td>0</td>\n",
              "      <td>0</td>\n",
              "      <td>0</td>\n",
              "      <td>0</td>\n",
              "      <td>0</td>\n",
              "      <td>0</td>\n",
              "      <td>0</td>\n",
              "      <td>0</td>\n",
              "      <td>0</td>\n",
              "      <td>0</td>\n",
              "      <td>0</td>\n",
              "      <td>0</td>\n",
              "      <td>0</td>\n",
              "      <td>0</td>\n",
              "      <td>0</td>\n",
              "      <td>0</td>\n",
              "      <td>0</td>\n",
              "      <td>0</td>\n",
              "      <td>1</td>\n",
              "    </tr>\n",
              "    <tr>\n",
              "      <th>3</th>\n",
              "      <td>1993</td>\n",
              "      <td>13116</td>\n",
              "      <td>0</td>\n",
              "      <td>14.0</td>\n",
              "      <td>11.0</td>\n",
              "      <td>188.0</td>\n",
              "      <td>14925.0</td>\n",
              "      <td>United States</td>\n",
              "      <td>17</td>\n",
              "      <td>13</td>\n",
              "      <td>96.0</td>\n",
              "      <td>13</td>\n",
              "      <td>2.0</td>\n",
              "      <td>5</td>\n",
              "      <td>0</td>\n",
              "      <td>0</td>\n",
              "      <td>0</td>\n",
              "      <td>0</td>\n",
              "      <td>0</td>\n",
              "      <td>0</td>\n",
              "      <td>0</td>\n",
              "      <td>0</td>\n",
              "      <td>0</td>\n",
              "      <td>0</td>\n",
              "      <td>0</td>\n",
              "      <td>0</td>\n",
              "      <td>0</td>\n",
              "      <td>0</td>\n",
              "      <td>0</td>\n",
              "      <td>0</td>\n",
              "      <td>0</td>\n",
              "      <td>0</td>\n",
              "      <td>0</td>\n",
              "      <td>0</td>\n",
              "      <td>0</td>\n",
              "      <td>0</td>\n",
              "      <td>0</td>\n",
              "      <td>0</td>\n",
              "      <td>0</td>\n",
              "      <td>0</td>\n",
              "      <td>0</td>\n",
              "      <td>0</td>\n",
              "      <td>0</td>\n",
              "      <td>0</td>\n",
              "      <td>0</td>\n",
              "      <td>0</td>\n",
              "      <td>0</td>\n",
              "      <td>0</td>\n",
              "      <td>0</td>\n",
              "      <td>1</td>\n",
              "    </tr>\n",
              "    <tr>\n",
              "      <th>4</th>\n",
              "      <td>1998</td>\n",
              "      <td>11964</td>\n",
              "      <td>0</td>\n",
              "      <td>16.0</td>\n",
              "      <td>8.0</td>\n",
              "      <td>236.0</td>\n",
              "      <td>9052.0</td>\n",
              "      <td>United States</td>\n",
              "      <td>8</td>\n",
              "      <td>1</td>\n",
              "      <td>89.0</td>\n",
              "      <td>44</td>\n",
              "      <td>3.0</td>\n",
              "      <td>59</td>\n",
              "      <td>0</td>\n",
              "      <td>0</td>\n",
              "      <td>0</td>\n",
              "      <td>0</td>\n",
              "      <td>0</td>\n",
              "      <td>0</td>\n",
              "      <td>0</td>\n",
              "      <td>0</td>\n",
              "      <td>0</td>\n",
              "      <td>0</td>\n",
              "      <td>0</td>\n",
              "      <td>0</td>\n",
              "      <td>0</td>\n",
              "      <td>0</td>\n",
              "      <td>0</td>\n",
              "      <td>0</td>\n",
              "      <td>0</td>\n",
              "      <td>0</td>\n",
              "      <td>0</td>\n",
              "      <td>0</td>\n",
              "      <td>0</td>\n",
              "      <td>0</td>\n",
              "      <td>0</td>\n",
              "      <td>0</td>\n",
              "      <td>0</td>\n",
              "      <td>0</td>\n",
              "      <td>0</td>\n",
              "      <td>0</td>\n",
              "      <td>0</td>\n",
              "      <td>0</td>\n",
              "      <td>0</td>\n",
              "      <td>0</td>\n",
              "      <td>0</td>\n",
              "      <td>0</td>\n",
              "      <td>0</td>\n",
              "      <td>1</td>\n",
              "    </tr>\n",
              "  </tbody>\n",
              "</table>\n",
              "</div>"
            ],
            "text/plain": [
              "   year  n_citation  ...  United Kingdom  United States\n",
              "0  1995       22276  ...               0              0\n",
              "1  2009       20162  ...               1              0\n",
              "2  2003       19392  ...               0              1\n",
              "3  1993       13116  ...               0              1\n",
              "4  1998       11964  ...               0              1\n",
              "\n",
              "[5 rows x 50 columns]"
            ]
          },
          "metadata": {
            "tags": []
          },
          "execution_count": 12
        }
      ]
    },
    {
      "cell_type": "code",
      "metadata": {
        "id": "BEj49zaEu1NA",
        "colab": {
          "base_uri": "https://localhost:8080/",
          "height": 323
        },
        "outputId": "0c744d64-973b-4583-ca1e-e384785ca363"
      },
      "source": [
        "#delete Country column\n",
        "display(data_dummies.head())\n",
        "data_dummies=data_dummies.drop(\"Country\",1)\n",
        "col_data=col_data.drop(\"Country\",1)"
      ],
      "execution_count": 13,
      "outputs": [
        {
          "output_type": "display_data",
          "data": {
            "text/html": [
              "<div>\n",
              "<style scoped>\n",
              "    .dataframe tbody tr th:only-of-type {\n",
              "        vertical-align: middle;\n",
              "    }\n",
              "\n",
              "    .dataframe tbody tr th {\n",
              "        vertical-align: top;\n",
              "    }\n",
              "\n",
              "    .dataframe thead th {\n",
              "        text-align: right;\n",
              "    }\n",
              "</style>\n",
              "<table border=\"1\" class=\"dataframe\">\n",
              "  <thead>\n",
              "    <tr style=\"text-align: right;\">\n",
              "      <th></th>\n",
              "      <th>year</th>\n",
              "      <th>n_citation</th>\n",
              "      <th>doc_type</th>\n",
              "      <th>volume</th>\n",
              "      <th>issue</th>\n",
              "      <th>H index</th>\n",
              "      <th>Total Refs.</th>\n",
              "      <th>Country</th>\n",
              "      <th>pages</th>\n",
              "      <th>nb_authors</th>\n",
              "      <th>index_length</th>\n",
              "      <th>fc_pop</th>\n",
              "      <th>nb_references</th>\n",
              "      <th>fos_pop</th>\n",
              "      <th>Australia</th>\n",
              "      <th>Austria</th>\n",
              "      <th>Brazil</th>\n",
              "      <th>Canada</th>\n",
              "      <th>Chile</th>\n",
              "      <th>China</th>\n",
              "      <th>Czech Republic</th>\n",
              "      <th>Denmark</th>\n",
              "      <th>Egypt</th>\n",
              "      <th>France</th>\n",
              "      <th>Germany</th>\n",
              "      <th>Hong Kong</th>\n",
              "      <th>Hungary</th>\n",
              "      <th>India</th>\n",
              "      <th>Indonesia</th>\n",
              "      <th>Ireland</th>\n",
              "      <th>Italy</th>\n",
              "      <th>Japan</th>\n",
              "      <th>Netherlands</th>\n",
              "      <th>Poland</th>\n",
              "      <th>Portugal</th>\n",
              "      <th>Russian Federation</th>\n",
              "      <th>Serbia</th>\n",
              "      <th>Singapore</th>\n",
              "      <th>Slovenia</th>\n",
              "      <th>South Africa</th>\n",
              "      <th>South Korea</th>\n",
              "      <th>Spain</th>\n",
              "      <th>Sweden</th>\n",
              "      <th>Switzerland</th>\n",
              "      <th>Taiwan</th>\n",
              "      <th>Turkey</th>\n",
              "      <th>Ukraine</th>\n",
              "      <th>United Arab Emirates</th>\n",
              "      <th>United Kingdom</th>\n",
              "      <th>United States</th>\n",
              "    </tr>\n",
              "  </thead>\n",
              "  <tbody>\n",
              "    <tr>\n",
              "      <th>0</th>\n",
              "      <td>1995</td>\n",
              "      <td>22276</td>\n",
              "      <td>0</td>\n",
              "      <td>20.0</td>\n",
              "      <td>3.0</td>\n",
              "      <td>152.0</td>\n",
              "      <td>4124.0</td>\n",
              "      <td>Netherlands</td>\n",
              "      <td>25</td>\n",
              "      <td>2</td>\n",
              "      <td>122.0</td>\n",
              "      <td>1</td>\n",
              "      <td>3.0</td>\n",
              "      <td>47</td>\n",
              "      <td>0</td>\n",
              "      <td>0</td>\n",
              "      <td>0</td>\n",
              "      <td>0</td>\n",
              "      <td>0</td>\n",
              "      <td>0</td>\n",
              "      <td>0</td>\n",
              "      <td>0</td>\n",
              "      <td>0</td>\n",
              "      <td>0</td>\n",
              "      <td>0</td>\n",
              "      <td>0</td>\n",
              "      <td>0</td>\n",
              "      <td>0</td>\n",
              "      <td>0</td>\n",
              "      <td>0</td>\n",
              "      <td>0</td>\n",
              "      <td>0</td>\n",
              "      <td>1</td>\n",
              "      <td>0</td>\n",
              "      <td>0</td>\n",
              "      <td>0</td>\n",
              "      <td>0</td>\n",
              "      <td>0</td>\n",
              "      <td>0</td>\n",
              "      <td>0</td>\n",
              "      <td>0</td>\n",
              "      <td>0</td>\n",
              "      <td>0</td>\n",
              "      <td>0</td>\n",
              "      <td>0</td>\n",
              "      <td>0</td>\n",
              "      <td>0</td>\n",
              "      <td>0</td>\n",
              "      <td>0</td>\n",
              "      <td>0</td>\n",
              "    </tr>\n",
              "    <tr>\n",
              "      <th>1</th>\n",
              "      <td>2009</td>\n",
              "      <td>20162</td>\n",
              "      <td>0</td>\n",
              "      <td>25.0</td>\n",
              "      <td>16.0</td>\n",
              "      <td>390.0</td>\n",
              "      <td>29619.0</td>\n",
              "      <td>United Kingdom</td>\n",
              "      <td>2</td>\n",
              "      <td>9</td>\n",
              "      <td>89.0</td>\n",
              "      <td>14</td>\n",
              "      <td>8.0</td>\n",
              "      <td>3</td>\n",
              "      <td>0</td>\n",
              "      <td>0</td>\n",
              "      <td>0</td>\n",
              "      <td>0</td>\n",
              "      <td>0</td>\n",
              "      <td>0</td>\n",
              "      <td>0</td>\n",
              "      <td>0</td>\n",
              "      <td>0</td>\n",
              "      <td>0</td>\n",
              "      <td>0</td>\n",
              "      <td>0</td>\n",
              "      <td>0</td>\n",
              "      <td>0</td>\n",
              "      <td>0</td>\n",
              "      <td>0</td>\n",
              "      <td>0</td>\n",
              "      <td>0</td>\n",
              "      <td>0</td>\n",
              "      <td>0</td>\n",
              "      <td>0</td>\n",
              "      <td>0</td>\n",
              "      <td>0</td>\n",
              "      <td>0</td>\n",
              "      <td>0</td>\n",
              "      <td>0</td>\n",
              "      <td>0</td>\n",
              "      <td>0</td>\n",
              "      <td>0</td>\n",
              "      <td>0</td>\n",
              "      <td>0</td>\n",
              "      <td>0</td>\n",
              "      <td>0</td>\n",
              "      <td>0</td>\n",
              "      <td>1</td>\n",
              "      <td>0</td>\n",
              "    </tr>\n",
              "    <tr>\n",
              "      <th>2</th>\n",
              "      <td>2003</td>\n",
              "      <td>19392</td>\n",
              "      <td>0</td>\n",
              "      <td>3.0</td>\n",
              "      <td>3.0</td>\n",
              "      <td>230.0</td>\n",
              "      <td>13524.0</td>\n",
              "      <td>United States</td>\n",
              "      <td>30</td>\n",
              "      <td>3</td>\n",
              "      <td>120.0</td>\n",
              "      <td>376</td>\n",
              "      <td>11.0</td>\n",
              "      <td>87</td>\n",
              "      <td>0</td>\n",
              "      <td>0</td>\n",
              "      <td>0</td>\n",
              "      <td>0</td>\n",
              "      <td>0</td>\n",
              "      <td>0</td>\n",
              "      <td>0</td>\n",
              "      <td>0</td>\n",
              "      <td>0</td>\n",
              "      <td>0</td>\n",
              "      <td>0</td>\n",
              "      <td>0</td>\n",
              "      <td>0</td>\n",
              "      <td>0</td>\n",
              "      <td>0</td>\n",
              "      <td>0</td>\n",
              "      <td>0</td>\n",
              "      <td>0</td>\n",
              "      <td>0</td>\n",
              "      <td>0</td>\n",
              "      <td>0</td>\n",
              "      <td>0</td>\n",
              "      <td>0</td>\n",
              "      <td>0</td>\n",
              "      <td>0</td>\n",
              "      <td>0</td>\n",
              "      <td>0</td>\n",
              "      <td>0</td>\n",
              "      <td>0</td>\n",
              "      <td>0</td>\n",
              "      <td>0</td>\n",
              "      <td>0</td>\n",
              "      <td>0</td>\n",
              "      <td>0</td>\n",
              "      <td>0</td>\n",
              "      <td>1</td>\n",
              "    </tr>\n",
              "    <tr>\n",
              "      <th>3</th>\n",
              "      <td>1993</td>\n",
              "      <td>13116</td>\n",
              "      <td>0</td>\n",
              "      <td>14.0</td>\n",
              "      <td>11.0</td>\n",
              "      <td>188.0</td>\n",
              "      <td>14925.0</td>\n",
              "      <td>United States</td>\n",
              "      <td>17</td>\n",
              "      <td>13</td>\n",
              "      <td>96.0</td>\n",
              "      <td>13</td>\n",
              "      <td>2.0</td>\n",
              "      <td>5</td>\n",
              "      <td>0</td>\n",
              "      <td>0</td>\n",
              "      <td>0</td>\n",
              "      <td>0</td>\n",
              "      <td>0</td>\n",
              "      <td>0</td>\n",
              "      <td>0</td>\n",
              "      <td>0</td>\n",
              "      <td>0</td>\n",
              "      <td>0</td>\n",
              "      <td>0</td>\n",
              "      <td>0</td>\n",
              "      <td>0</td>\n",
              "      <td>0</td>\n",
              "      <td>0</td>\n",
              "      <td>0</td>\n",
              "      <td>0</td>\n",
              "      <td>0</td>\n",
              "      <td>0</td>\n",
              "      <td>0</td>\n",
              "      <td>0</td>\n",
              "      <td>0</td>\n",
              "      <td>0</td>\n",
              "      <td>0</td>\n",
              "      <td>0</td>\n",
              "      <td>0</td>\n",
              "      <td>0</td>\n",
              "      <td>0</td>\n",
              "      <td>0</td>\n",
              "      <td>0</td>\n",
              "      <td>0</td>\n",
              "      <td>0</td>\n",
              "      <td>0</td>\n",
              "      <td>0</td>\n",
              "      <td>0</td>\n",
              "      <td>1</td>\n",
              "    </tr>\n",
              "    <tr>\n",
              "      <th>4</th>\n",
              "      <td>1998</td>\n",
              "      <td>11964</td>\n",
              "      <td>0</td>\n",
              "      <td>16.0</td>\n",
              "      <td>8.0</td>\n",
              "      <td>236.0</td>\n",
              "      <td>9052.0</td>\n",
              "      <td>United States</td>\n",
              "      <td>8</td>\n",
              "      <td>1</td>\n",
              "      <td>89.0</td>\n",
              "      <td>44</td>\n",
              "      <td>3.0</td>\n",
              "      <td>59</td>\n",
              "      <td>0</td>\n",
              "      <td>0</td>\n",
              "      <td>0</td>\n",
              "      <td>0</td>\n",
              "      <td>0</td>\n",
              "      <td>0</td>\n",
              "      <td>0</td>\n",
              "      <td>0</td>\n",
              "      <td>0</td>\n",
              "      <td>0</td>\n",
              "      <td>0</td>\n",
              "      <td>0</td>\n",
              "      <td>0</td>\n",
              "      <td>0</td>\n",
              "      <td>0</td>\n",
              "      <td>0</td>\n",
              "      <td>0</td>\n",
              "      <td>0</td>\n",
              "      <td>0</td>\n",
              "      <td>0</td>\n",
              "      <td>0</td>\n",
              "      <td>0</td>\n",
              "      <td>0</td>\n",
              "      <td>0</td>\n",
              "      <td>0</td>\n",
              "      <td>0</td>\n",
              "      <td>0</td>\n",
              "      <td>0</td>\n",
              "      <td>0</td>\n",
              "      <td>0</td>\n",
              "      <td>0</td>\n",
              "      <td>0</td>\n",
              "      <td>0</td>\n",
              "      <td>0</td>\n",
              "      <td>0</td>\n",
              "      <td>1</td>\n",
              "    </tr>\n",
              "  </tbody>\n",
              "</table>\n",
              "</div>"
            ],
            "text/plain": [
              "   year  n_citation  ...  United Kingdom  United States\n",
              "0  1995       22276  ...               0              0\n",
              "1  2009       20162  ...               1              0\n",
              "2  2003       19392  ...               0              1\n",
              "3  1993       13116  ...               0              1\n",
              "4  1998       11964  ...               0              1\n",
              "\n",
              "[5 rows x 50 columns]"
            ]
          },
          "metadata": {
            "tags": []
          }
        }
      ]
    },
    {
      "cell_type": "markdown",
      "metadata": {
        "id": "xhXI3kID_XgY"
      },
      "source": [
        "# **Dataset for \"classification\" model**"
      ]
    },
    {
      "cell_type": "code",
      "metadata": {
        "colab": {
          "base_uri": "https://localhost:8080/"
        },
        "id": "kvh7mjGO_Uz4",
        "outputId": "e695b20d-b28e-4e68-f3e2-5d09885408dc"
      },
      "source": [
        "#Creation of the categories for n_citation                                        \n",
        "est = KBinsDiscretizer(n_bins=20, encode='ordinal', strategy='kmeans')\n",
        "data_dummies= data_dummies.reset_index(drop=True)\n",
        "lab = data_dummies['n_citation'].to_numpy().reshape(-1,1)\n",
        "est.fit(lab)\n",
        "KB_cat = est.transform(lab)  ###Transformation en catégories\n",
        "cat_dtf = pd.DataFrame(KB_cat,columns=['KB_cat'])\n",
        "data_dummies['KB_cat'] = cat_dtf['KB_cat']\n",
        "class_data_dummies=data_dummies.drop(\"n_citation\",1)\n",
        "np.set_printoptions(suppress=True)\n",
        "est.bin_edges_"
      ],
      "execution_count": 14,
      "outputs": [
        {
          "output_type": "stream",
          "text": [
            "/usr/local/lib/python3.7/dist-packages/sklearn/preprocessing/_discretization.py:184: ConvergenceWarning: Number of distinct clusters (19) found smaller than n_clusters (20). Possibly due to duplicate points in X.\n",
            "  centers = km.fit(column[:, None]).cluster_centers_[:, 0]\n",
            "/usr/local/lib/python3.7/dist-packages/sklearn/preprocessing/_discretization.py:197: UserWarning: Bins whose width are too small (i.e., <= 1e-8) in feature 0 are removed. Consider decreasing the number of bins.\n",
            "  'decreasing the number of bins.' % jj)\n"
          ],
          "name": "stderr"
        },
        {
          "output_type": "execute_result",
          "data": {
            "text/plain": [
              "array([array([    0.        ,    19.77180889,    57.81678752,   125.15723889,\n",
              "         239.94760246,   438.12939903,   774.31366122,  1289.6016295 ,\n",
              "        2039.57467532,  3128.92664093,  4764.75437202,  6770.80392157,\n",
              "        8705.08333333,  9996.25      , 10989.25      , 12363.25      ,\n",
              "       16254.        , 19777.        , 21219.        , 22276.        ])],\n",
              "      dtype=object)"
            ]
          },
          "metadata": {
            "tags": []
          },
          "execution_count": 14
        }
      ]
    },
    {
      "cell_type": "markdown",
      "metadata": {
        "id": "5ISmD35A_kES"
      },
      "source": [
        "# **Dataset for \"quantitative\" model (eg.:regression)**"
      ]
    },
    {
      "cell_type": "code",
      "metadata": {
        "id": "EuSJ57bZ_z2n"
      },
      "source": [
        "#Dataset with n_citation kept\n",
        "qtt_data_dummies=data_dummies.drop(\"KB_cat\",1)"
      ],
      "execution_count": 15,
      "outputs": []
    },
    {
      "cell_type": "markdown",
      "metadata": {
        "id": "4GifqJ79r-C0"
      },
      "source": [
        "# **Dataset for regression (dummies of publisher) => Abandonned because of memory shortage**"
      ]
    },
    {
      "cell_type": "code",
      "metadata": {
        "id": "4sva8wlRr9Nv"
      },
      "source": [
        "col_data_reg = data[['year', 'n_citation', 'doc_type','volume', 'issue','H index','Total Refs.',\n",
        "       'Country', 'pages','nb_authors','index_length', 'fc_pop', 'nb_references',\n",
        "       'fos_pop','publisher']]\n"
      ],
      "execution_count": null,
      "outputs": []
    },
    {
      "cell_type": "code",
      "metadata": {
        "id": "e7YooV1pIXQ_"
      },
      "source": [
        "median = col_data_reg.loc[col_data_reg['issue']<100000, 'issue'].median()\n",
        "col_data_reg[\"issue\"] = np.where(col_data_reg[\"issue\"] >100000, median,col_data_reg['issue'])\n",
        "col_data_reg['issue'] = col_data_reg['issue'].fillna(col_data_reg['issue'].median())\n",
        "\n",
        "median = col_data_reg.loc[col_data_reg['volume']<100000, 'volume'].median()\n",
        "col_data_reg[\"volume\"] = np.where(col_data_reg[\"volume\"] >100000, median,col_data_reg['volume'])\n",
        "col_data_reg['volume'] = col_data_reg['volume'].fillna(col_data_reg['volume'].median())\n",
        "\n",
        "median = col_data_reg.loc[col_data_reg['nb_references']<100000, 'nb_references'].median()\n",
        "col_data_reg[\"nb_references\"] = np.where(col_data_reg[\"nb_references\"] >100000, median,col_data_reg['nb_references'])\n",
        "col_data['nb_references'] = col_data_reg['nb_references'].fillna(col_data_reg['nb_references'].median())"
      ],
      "execution_count": null,
      "outputs": []
    },
    {
      "cell_type": "code",
      "metadata": {
        "id": "JsRnEG-Dy942"
      },
      "source": [
        "publisher_count = col_data_reg['publisher'].value_counts()\n",
        "\n",
        "\n",
        "publisher_count = publisher_count.to_frame()\n",
        "\n",
        "publisher_count['pub_name']= publisher_count.index\n",
        "\n",
        "vc_pub = col_data_reg['publisher'].value_counts()\n",
        "col_data_reg['pub_num'] = col_data_reg['publisher'].apply(lambda x: vc_pub[x])\n",
        "\n",
        "col_data_final = col_data_reg[col_data_reg['pub_num'] > 100]\n",
        "col_data_final.info()\n",
        "publisher_dummies_reg = col_data_final.publisher.str.get_dummies()"
      ],
      "execution_count": null,
      "outputs": []
    },
    {
      "cell_type": "code",
      "metadata": {
        "id": "EtRb26HY3sXC"
      },
      "source": [
        "country_dummies_reg = col_data_final.Country.str.get_dummies()\n",
        "country_dummies_reg.head()\n",
        "\n",
        "all_df_reg = [col_data_final,country_dummies_reg,publisher_dummies_reg]\n",
        "data_dummies_reg = pd.concat(all_df_reg, axis=1)\n",
        "data_dummies_reg = data_dummies_reg.drop(['Country','publisher'],axis=1) #UTILISER DATA_DUMMIES_REG\n",
        "data_dummies_reg.head()"
      ],
      "execution_count": null,
      "outputs": []
    },
    {
      "cell_type": "markdown",
      "metadata": {
        "id": "U2I3624EDj1A"
      },
      "source": [
        "# **Classification**"
      ]
    },
    {
      "cell_type": "code",
      "metadata": {
        "id": "cneXk0SsJaZK"
      },
      "source": [
        "# Prepare data (training and testing sets)\n",
        "from sklearn.model_selection import train_test_split\n",
        "from sklearn.preprocessing import MinMaxScaler\n",
        "from sklearn.metrics import accuracy_score\n",
        "dataframe = class_data_dummies.sample(n=351588)\n",
        "\n",
        "X = dataframe.drop(\"KB_cat\", 1)\n",
        "y = dataframe[\"KB_cat\"]\n",
        "\n",
        "#Normalization\n",
        "scaler = MinMaxScaler()\n",
        "v = scaler.fit_transform(X)\n",
        "X = pd.DataFrame(v,columns=X.columns)\n",
        "\n",
        "\n",
        "#order of variable = important\n",
        "Xtrain, Xtest, ytrain, ytest = train_test_split(X, y, test_size=0.20, random_state=1) # random state for repeatability"
      ],
      "execution_count": 16,
      "outputs": []
    },
    {
      "cell_type": "markdown",
      "metadata": {
        "id": "xY1e0H45D43c"
      },
      "source": [
        "# **KNN model**"
      ]
    },
    {
      "cell_type": "code",
      "metadata": {
        "id": "NR6p-SO0D6fx"
      },
      "source": [
        "###Use KNN\n",
        "KNN = KNeighborsClassifier(n_neighbors = 119,weights='distance')\n",
        "\n",
        "# Train\n",
        "KNN.fit(Xtrain, ytrain)\n",
        "\n",
        "# Predict\n",
        "predict_KNN = KNN.predict(Xtest)\n",
        "\n",
        "print(\"Accuracy:\", accuracy_score(ytest, predict_KNN))"
      ],
      "execution_count": null,
      "outputs": []
    },
    {
      "cell_type": "code",
      "metadata": {
        "id": "K_sV7Hnw4VYT"
      },
      "source": [
        "dfp = pd.DataFrame({'Actual': ytest, 'Predicted': predict_KNN})\n",
        "dfp.value_counts()"
      ],
      "execution_count": null,
      "outputs": []
    },
    {
      "cell_type": "markdown",
      "metadata": {
        "id": "GFCJqR1AEVtS"
      },
      "source": [
        "# **KNN With GridSearch**\n"
      ]
    },
    {
      "cell_type": "code",
      "metadata": {
        "id": "KBjxeXotEa20"
      },
      "source": [
        "###Chosing the right metaparameters with Gridsearch\n",
        "\n",
        "metaparameters_KNN = {\"n_neighbors\": range(150,160),\"weights\": 'distance'}\n",
        "\n",
        "# initialize the model\n",
        "KNN = KNeighborsClassifier(random_state=1)\n",
        "best_KNN = GridSearchCV(KNN,metaparameters_KNN,cv=3)\n",
        "best_KNN.fit(Xtrain, ytrain)\n",
        "\n",
        "print(best_knn.best_params_)\n",
        "# Test the model\n",
        "print(\"Accuracy:\", accuracy_score(ytest, best_KNN.predict(Xtest)))"
      ],
      "execution_count": null,
      "outputs": []
    },
    {
      "cell_type": "markdown",
      "metadata": {
        "id": "5fHaznx-EqU2"
      },
      "source": [
        "# **Decision tree**"
      ]
    },
    {
      "cell_type": "code",
      "metadata": {
        "id": "kCUrq9MyEs04"
      },
      "source": [
        "### Use DT\n",
        "DT = DecisionTreeClassifier(random_state = 1,max_leaf_nodes=148,max_depth=50)\n",
        "DT.fit(Xtrain, ytrain)\n",
        "\n",
        "#Predict\n",
        "prediction = DT.predict(Xtest)\n",
        "\n",
        "# Test the model\n",
        "print(\"Accuracy:\",accuracy_score(ytest, prediction))"
      ],
      "execution_count": null,
      "outputs": []
    },
    {
      "cell_type": "code",
      "metadata": {
        "id": "bCiF02lAVWrN"
      },
      "source": [
        "list(zip(DT.feature_importances_,X)) #Importance of the features"
      ],
      "execution_count": null,
      "outputs": []
    },
    {
      "cell_type": "code",
      "metadata": {
        "id": "gNLXB-XVDvEb"
      },
      "source": [
        "dfp = pd.DataFrame({'Actual': ytest, 'Predicted': prediction})\n",
        "dfp.value_counts()"
      ],
      "execution_count": null,
      "outputs": []
    },
    {
      "cell_type": "code",
      "metadata": {
        "id": "5lUowhg_-Rqn"
      },
      "source": [
        "###Import PNG\n",
        "dot_data = StringIO()\n",
        "tree.export_graphviz(DT, out_file=dot_data,  \n",
        "                filled=True, rounded=True,\n",
        "                special_characters=True,feature_names = X.columns)\n",
        "graph = pydotplus.graph_from_dot_data(dot_data.getvalue()) \n",
        "graph.write_png('DecisionTree.png')"
      ],
      "execution_count": null,
      "outputs": []
    },
    {
      "cell_type": "code",
      "metadata": {
        "colab": {
          "base_uri": "https://localhost:8080/"
        },
        "id": "LjXEJyTMjSxN",
        "outputId": "af4f68f7-dd20-4029-cda9-2f84b4a0a79f"
      },
      "source": [
        "DT.score(X, y, sample_weight=None)"
      ],
      "execution_count": 51,
      "outputs": [
        {
          "output_type": "execute_result",
          "data": {
            "text/plain": [
              "0.703619008612353"
            ]
          },
          "metadata": {
            "tags": []
          },
          "execution_count": 51
        }
      ]
    },
    {
      "cell_type": "markdown",
      "metadata": {
        "id": "vN9rFO1LxkCq"
      },
      "source": [
        "# **Decision Tree with GridSearch**"
      ]
    },
    {
      "cell_type": "code",
      "metadata": {
        "id": "fmRAexTyLV7B"
      },
      "source": [
        "###Chosing the right metaparameters with Gridsearch\n",
        "\n",
        "metaparameters_DT = {\"max_depth\": [40,50],\"max_leaf_nodes\":[1000,2000]}\n",
        "\n",
        "# initialize the model\n",
        "\n",
        "DT = KNeighborsClassifier()\n",
        "best_DT = GridSearchCV(DT,metaparameters_DT,cv=5)\n",
        "best_DT.fit(Xtrain, ytrain)\n",
        "\n",
        "print(best_DT.best_params_)  \n",
        "# Test the model\n",
        "print(\"Accuracy:\", accuracy_score(ytest, best_DT.predict(Xtest)))"
      ],
      "execution_count": null,
      "outputs": []
    },
    {
      "cell_type": "markdown",
      "metadata": {
        "id": "s3jWrUHaD8hC"
      },
      "source": [
        "# **Random Forest**"
      ]
    },
    {
      "cell_type": "code",
      "metadata": {
        "colab": {
          "base_uri": "https://localhost:8080/"
        },
        "id": "dGheLWBdEBWJ",
        "outputId": "fce7bd9c-76e6-4c23-abaf-f6094051be24"
      },
      "source": [
        "###Model used\n",
        "RF =RandomForestClassifier(max_depth=35,max_leaf_nodes=1900, random_state=1,n_estimators=300)\n",
        "RF.fit(Xtrain, ytrain)\n",
        "\n",
        "# Test the model\n",
        "print(\"Accuracy:\",accuracy_score(ytest, RF.predict(Xtest)))"
      ],
      "execution_count": 60,
      "outputs": [
        {
          "output_type": "stream",
          "text": [
            "0.6868369407548565\n"
          ],
          "name": "stdout"
        }
      ]
    },
    {
      "cell_type": "code",
      "metadata": {
        "colab": {
          "base_uri": "https://localhost:8080/"
        },
        "id": "0UJjcEOdcN9G",
        "outputId": "3ef4e275-f422-4874-bc7b-3b4b000c105c"
      },
      "source": [
        "list(zip(RF.feature_importances_,X))"
      ],
      "execution_count": null,
      "outputs": [
        {
          "output_type": "execute_result",
          "data": {
            "text/plain": [
              "[(0.09349548810761757, 'year'),\n",
              " (0.07170915951635824, 'doc_type'),\n",
              " (0.04103780081996245, 'volume'),\n",
              " (0.02496790805981094, 'issue'),\n",
              " (0.2993951460908072, 'H index'),\n",
              " (0.0817815431046296, 'Total Refs.'),\n",
              " (0.1692509560357583, 'pages'),\n",
              " (0.014802426852883337, 'nb_authors'),\n",
              " (0.03219475898308939, 'index_length'),\n",
              " (0.003813458289194864, 'fc_pop'),\n",
              " (0.10481724699012396, 'nb_references'),\n",
              " (0.006248822927352581, 'fos_pop'),\n",
              " (3.2894893429895383e-06, 'Australia'),\n",
              " (7.031213708591408e-06, 'Austria'),\n",
              " (0.0, 'Brazil'),\n",
              " (0.0, 'Canada'),\n",
              " (1.5236867899963919e-05, 'Chile'),\n",
              " (0.0, 'China'),\n",
              " (6.523706323660007e-06, 'Czech Republic'),\n",
              " (5.911011999745438e-06, 'Denmark'),\n",
              " (0.0005047703973939074, 'Egypt'),\n",
              " (5.43967976163886e-05, 'France'),\n",
              " (0.0019376756099111535, 'Germany'),\n",
              " (0.0, 'Hong Kong'),\n",
              " (0.0, 'Hungary'),\n",
              " (9.007140109389792e-06, 'India'),\n",
              " (0.0, 'Indonesia'),\n",
              " (0.0002966357565339071, 'Ireland'),\n",
              " (0.0, 'Italy'),\n",
              " (0.011376532220378203, 'Japan'),\n",
              " (0.0072775532348221495, 'Netherlands'),\n",
              " (0.00018929208728700244, 'Poland'),\n",
              " (0.0, 'Portugal'),\n",
              " (0.0003792356884324564, 'Russian Federation'),\n",
              " (2.0947751982894266e-05, 'Serbia'),\n",
              " (0.0031209238122881415, 'Singapore'),\n",
              " (1.8199066791230593e-05, 'Slovenia'),\n",
              " (0.0, 'South Africa'),\n",
              " (0.00012024097787823761, 'South Korea'),\n",
              " (0.0, 'Spain'),\n",
              " (2.7797343801290967e-06, 'Sweden'),\n",
              " (0.0012198841408729082, 'Switzerland'),\n",
              " (0.00010143107427389393, 'Taiwan'),\n",
              " (0.0, 'Turkey'),\n",
              " (3.95630415204097e-06, 'Ukraine'),\n",
              " (0.0, 'United Arab Emirates'),\n",
              " (0.00500957599366506, 'United Kingdom'),\n",
              " (0.02480425414436742, 'United States')]"
            ]
          },
          "metadata": {
            "tags": []
          },
          "execution_count": 83
        }
      ]
    },
    {
      "cell_type": "markdown",
      "metadata": {
        "id": "SvfPTQpHDuaS"
      },
      "source": [
        "# **ANN**"
      ]
    },
    {
      "cell_type": "code",
      "metadata": {
        "colab": {
          "base_uri": "https://localhost:8080/"
        },
        "id": "DREIrSajAAmp",
        "outputId": "bdf39e62-81bf-4abb-f401-5b00f355dd77"
      },
      "source": [
        "#Train the model\n",
        "ANN =MLPClassifier(random_state=1)\n",
        "ANN.fit(Xtrain, ytrain)\n",
        "\n",
        "#Test the model\n",
        "print(\"Accuracy:\",accuracy_score(ytest, ANN.predict(Xtest)))"
      ],
      "execution_count": 61,
      "outputs": [
        {
          "output_type": "stream",
          "text": [
            "0.6794561847606587\n"
          ],
          "name": "stdout"
        }
      ]
    },
    {
      "cell_type": "code",
      "metadata": {
        "id": "KoQ99ZUGqOcd"
      },
      "source": [
        "parameters_ANN = {\"hidden_layer_sizes\": [(5,5,5),(5,5,5)]} # test all value between 1000 and 1004 --> increase range as much as possible\n",
        "#With GridSearch\n",
        "ANN = MLPClassifier()\n",
        "best_ANN = GridSearchCV(ANN,parameters_ANN,cv=5)\n",
        "best_ANN.fit(Xtrain, ytrain)\n",
        "\n",
        "print(best_ANN.best_params_) \n",
        "\n",
        "#Accuracy\n",
        "print(\"Test error:\", accuracy_score(ytest, best_ANN.predict(Xtest)))"
      ],
      "execution_count": null,
      "outputs": []
    },
    {
      "cell_type": "markdown",
      "metadata": {
        "id": "WqB8BuhoDzoR"
      },
      "source": [
        "# **SVM**"
      ]
    },
    {
      "cell_type": "code",
      "metadata": {
        "id": "XjlStnlICaw6"
      },
      "source": [
        "###SVM\n",
        "SVM =make_pipeline(StandardScaler(), SVC(gamma='auto'))\n",
        "SVM.fit(Xtrain, ytrain)\n",
        "\n",
        "# Test the model\n",
        "print(\"Accuracy:\",accuracy_score(ytest, SVM.predict(Xtest)))"
      ],
      "execution_count": null,
      "outputs": []
    },
    {
      "cell_type": "markdown",
      "metadata": {
        "id": "gCjuDBnSNhE9"
      },
      "source": [
        "# **Regression**"
      ]
    },
    {
      "cell_type": "code",
      "metadata": {
        "id": "nvQDODzvN6UH"
      },
      "source": [
        "# Prepare data (training and testing sets)\n",
        "\n",
        "regdata = qtt_data_dummies.sample(n = 351588)"
      ],
      "execution_count": 17,
      "outputs": []
    },
    {
      "cell_type": "code",
      "metadata": {
        "id": "VR7pAxaj_XrC"
      },
      "source": [
        "###Normalizing\n",
        "scaler = MinMaxScaler()\n",
        "regdata = scaler.fit_transform(regdata)"
      ],
      "execution_count": 18,
      "outputs": []
    },
    {
      "cell_type": "code",
      "metadata": {
        "id": "rM1FDOy1ATCi"
      },
      "source": [
        "regdata = pd.DataFrame(regdata,columns=qtt_data_dummies.columns)\n",
        "regdata.head()"
      ],
      "execution_count": null,
      "outputs": []
    },
    {
      "cell_type": "code",
      "metadata": {
        "colab": {
          "base_uri": "https://localhost:8080/",
          "height": 328
        },
        "id": "P21-N8mkNm4H",
        "outputId": "dcefc1e4-92d9-4593-9682-d788e3940704"
      },
      "source": [
        "###Prepare train test\n",
        "x = regdata.drop(['n_citation'],axis=1)\n",
        "y = regdata['n_citation']\n",
        "\n",
        "x_train, x_test, y_train, y_test = train_test_split(x,y,test_size=0.22,shuffle=False, random_state=1)\n",
        "\n",
        "#Linear Model\n",
        "LM = linear_model.LinearRegression(copy_X=True)\n",
        "LM.fit(x_train, y_train)\n",
        "\n",
        "#Prediction\n",
        "y_pred = LM.predict(x_test)\n",
        "\n",
        "#Plot\n",
        "print(\"MSE:\",mean_squared_error(y_test, y_pred))\n",
        "print(\"R2:\",r2_score(y_test, y_pred))\n",
        "plt.scatter(y_test,LM.predict(x_test))\n",
        "plt.grid()\n",
        "plt.xlabel('Actual y')\n",
        "plt.ylabel('Predicted y')\n",
        "plt.title('scatter plot between actual y and predicted y')\n",
        "plt.show()\n"
      ],
      "execution_count": 21,
      "outputs": [
        {
          "output_type": "stream",
          "text": [
            "MSE: 3.164955776922481e-05\n",
            "R2: 0.039205699467649624\n"
          ],
          "name": "stdout"
        },
        {
          "output_type": "display_data",
          "data": {
            "image/png": "[encoded data removed]",
            "text/plain": [
              "<Figure size 432x288 with 1 Axes>"
            ]
          },
          "metadata": {
            "tags": [],
            "needs_background": "light"
          }
        }
      ]
    },
    {
      "cell_type": "code",
      "metadata": {
        "colab": {
          "base_uri": "https://localhost:8080/"
        },
        "id": "eXJ4DJxLcZ2G",
        "outputId": "63b35c65-1c39-4d48-822e-2c6396e0a79b"
      },
      "source": [
        "for i in range(len(list(zip(LM.coef_, x)))):#Coefficients\n",
        "  print(list(zip(LM.coef_, x))[i])"
      ],
      "execution_count": 23,
      "outputs": [
        {
          "output_type": "stream",
          "text": [
            "(-0.006098121304919311, 'year')\n",
            "(-0.00023693601559645217, 'doc_type')\n",
            "(-0.0017830956892736106, 'volume')\n",
            "(0.0033061004058718337, 'issue')\n",
            "(0.010488802313133129, 'H index')\n",
            "(-0.005467446739532767, 'Total Refs.')\n",
            "(0.015564034664121046, 'pages')\n",
            "(0.027377476797096314, 'nb_authors')\n",
            "(0.002103763120995937, 'index_length')\n",
            "(1.7237494684260837e-05, 'fc_pop')\n",
            "(0.0235666537574219, 'nb_references')\n",
            "(7.479596991953042e-06, 'fos_pop')\n",
            "(0.0011669483136809323, 'Australia')\n",
            "(-0.0004437908834382459, 'Austria')\n",
            "(-1.0213184464813452e-16, 'Brazil')\n",
            "(-0.0002286392826847256, 'Canada')\n",
            "(-0.0003164236002909446, 'Chile')\n",
            "(-0.0003930944527625413, 'China')\n",
            "(-0.0005344214182006964, 'Czech Republic')\n",
            "(0.0001812505421421268, 'Denmark')\n",
            "(-3.0515788682619635e-05, 'Egypt')\n",
            "(8.626858134013396e-05, 'France')\n",
            "(0.00010548547371624338, 'Germany')\n",
            "(4.039469567381218e-05, 'Hong Kong')\n",
            "(-0.00023550590890251657, 'Hungary')\n",
            "(0.00015246388750368812, 'India')\n",
            "(4.94634625605849e-05, 'Indonesia')\n",
            "(0.00011322130813394983, 'Ireland')\n",
            "(0.0010437893541695188, 'Italy')\n",
            "(-0.0004124176617519115, 'Japan')\n",
            "(-0.0002007902893778473, 'Netherlands')\n",
            "(-6.232323054471138e-05, 'Poland')\n",
            "(-0.000504880050692882, 'Portugal')\n",
            "(0.0001664115816720703, 'Russian Federation')\n",
            "(-0.00033185800987530915, 'Serbia')\n",
            "(-9.55928212599668e-05, 'Singapore')\n",
            "(0.000279880185944458, 'Slovenia')\n",
            "(-0.00013253514398454066, 'South Africa')\n",
            "(-0.000384942228552638, 'South Korea')\n",
            "(-0.00024202659505853216, 'Spain')\n",
            "(0.00019787940152395165, 'Sweden')\n",
            "(0.0006595404812382981, 'Switzerland')\n",
            "(0.00019506112190259529, 'Taiwan')\n",
            "(-0.0005888279434459294, 'Turkey')\n",
            "(0.0001221764626817878, 'Ukraine')\n",
            "(0.0003458186078383158, 'United Arab Emirates')\n",
            "(-6.63927350564271e-06, 'United Kingdom')\n",
            "(0.00023917112128925288, 'United States')\n"
          ],
          "name": "stdout"
        }
      ]
    },
    {
      "cell_type": "code",
      "metadata": {
        "id": "mVsOxy21pOFk",
        "colab": {
          "base_uri": "https://localhost:8080/",
          "height": 416
        },
        "outputId": "45ae5bd8-2e15-4411-d2a0-557cc6b55cc4"
      },
      "source": [
        "dfp = pd.DataFrame({'Actual': y_test, 'Predicted': y_pred})\n",
        "dfp"
      ],
      "execution_count": 24,
      "outputs": [
        {
          "output_type": "execute_result",
          "data": {
            "text/html": [
              "<div>\n",
              "<style scoped>\n",
              "    .dataframe tbody tr th:only-of-type {\n",
              "        vertical-align: middle;\n",
              "    }\n",
              "\n",
              "    .dataframe tbody tr th {\n",
              "        vertical-align: top;\n",
              "    }\n",
              "\n",
              "    .dataframe thead th {\n",
              "        text-align: right;\n",
              "    }\n",
              "</style>\n",
              "<table border=\"1\" class=\"dataframe\">\n",
              "  <thead>\n",
              "    <tr style=\"text-align: right;\">\n",
              "      <th></th>\n",
              "      <th>Actual</th>\n",
              "      <th>Predicted</th>\n",
              "    </tr>\n",
              "  </thead>\n",
              "  <tbody>\n",
              "    <tr>\n",
              "      <th>274238</th>\n",
              "      <td>0.000000</td>\n",
              "      <td>0.000787</td>\n",
              "    </tr>\n",
              "    <tr>\n",
              "      <th>274239</th>\n",
              "      <td>0.002559</td>\n",
              "      <td>0.000721</td>\n",
              "    </tr>\n",
              "    <tr>\n",
              "      <th>274240</th>\n",
              "      <td>0.000045</td>\n",
              "      <td>0.000249</td>\n",
              "    </tr>\n",
              "    <tr>\n",
              "      <th>274241</th>\n",
              "      <td>0.012166</td>\n",
              "      <td>0.003556</td>\n",
              "    </tr>\n",
              "    <tr>\n",
              "      <th>274242</th>\n",
              "      <td>0.000045</td>\n",
              "      <td>0.000981</td>\n",
              "    </tr>\n",
              "    <tr>\n",
              "      <th>...</th>\n",
              "      <td>...</td>\n",
              "      <td>...</td>\n",
              "    </tr>\n",
              "    <tr>\n",
              "      <th>351583</th>\n",
              "      <td>0.001751</td>\n",
              "      <td>0.002120</td>\n",
              "    </tr>\n",
              "    <tr>\n",
              "      <th>351584</th>\n",
              "      <td>0.000494</td>\n",
              "      <td>0.000297</td>\n",
              "    </tr>\n",
              "    <tr>\n",
              "      <th>351585</th>\n",
              "      <td>0.000135</td>\n",
              "      <td>0.001581</td>\n",
              "    </tr>\n",
              "    <tr>\n",
              "      <th>351586</th>\n",
              "      <td>0.001257</td>\n",
              "      <td>0.002186</td>\n",
              "    </tr>\n",
              "    <tr>\n",
              "      <th>351587</th>\n",
              "      <td>0.000090</td>\n",
              "      <td>0.000952</td>\n",
              "    </tr>\n",
              "  </tbody>\n",
              "</table>\n",
              "<p>77350 rows × 2 columns</p>\n",
              "</div>"
            ],
            "text/plain": [
              "          Actual  Predicted\n",
              "274238  0.000000   0.000787\n",
              "274239  0.002559   0.000721\n",
              "274240  0.000045   0.000249\n",
              "274241  0.012166   0.003556\n",
              "274242  0.000045   0.000981\n",
              "...          ...        ...\n",
              "351583  0.001751   0.002120\n",
              "351584  0.000494   0.000297\n",
              "351585  0.000135   0.001581\n",
              "351586  0.001257   0.002186\n",
              "351587  0.000090   0.000952\n",
              "\n",
              "[77350 rows x 2 columns]"
            ]
          },
          "metadata": {
            "tags": []
          },
          "execution_count": 24
        }
      ]
    },
    {
      "cell_type": "code",
      "metadata": {
        "colab": {
          "base_uri": "https://localhost:8080/",
          "height": 328
        },
        "id": "TXetFWRtq-4d",
        "outputId": "8a692b01-a1fc-4936-93e2-22cd9480f0ae"
      },
      "source": [
        "###Prepare train test\n",
        "x = regdata.drop(['n_citation'],axis=1)\n",
        "y = regdata['n_citation']\n",
        "\n",
        "x_train, x_test, y_train, y_test = train_test_split(x,y,test_size=0.22,shuffle=False, random_state=1)\n",
        "\n",
        "#Linear Model\n",
        "SGD = SGDRegressor()\n",
        "SGD.fit(x_train, y_train)\n",
        "\n",
        "#Prediction\n",
        "y_pred = SGD.predict(x_test)\n",
        "\n",
        "#Plot\n",
        "print(\"MSE:\",mean_squared_error(y_test, y_pred))\n",
        "print(\"R2:\",r2_score(y_test, y_pred))\n",
        "plt.scatter(y_test,SGD.predict(x_test))\n",
        "plt.grid()\n",
        "plt.xlabel('Actual y')\n",
        "plt.ylabel('Predicted y')\n",
        "plt.title('scatter plot between actual y and predicted y')\n",
        "plt.show()\n"
      ],
      "execution_count": 26,
      "outputs": [
        {
          "output_type": "stream",
          "text": [
            "MSE: 3.190667747629414e-05\n",
            "R2: 0.03140024604210523\n"
          ],
          "name": "stdout"
        },
        {
          "output_type": "display_data",
          "data": {
            "image/png": "[encoded data removed]",
            "text/plain": [
              "<Figure size 432x288 with 1 Axes>"
            ]
          },
          "metadata": {
            "tags": [],
            "needs_background": "light"
          }
        }
      ]
    },
    {
      "cell_type": "code",
      "metadata": {
        "id": "xYimJw3Ds0Y8",
        "colab": {
          "base_uri": "https://localhost:8080/"
        },
        "outputId": "42ea94e4-7368-46e5-dd9d-45c34321d2fc"
      },
      "source": [
        "for i in range(len(list(zip(SGD.coef_, x)))):##Coefficient\n",
        "  print(list(zip(SGD.coef_, x))[i])"
      ],
      "execution_count": 27,
      "outputs": [
        {
          "output_type": "stream",
          "text": [
            "(-0.004541284696340918, 'year')\n",
            "(-0.00037213579273652535, 'doc_type')\n",
            "(-0.0012360941476633968, 'volume')\n",
            "(0.0004343611494194791, 'issue')\n",
            "(0.009375988886367538, 'H index')\n",
            "(-0.0011743873859920233, 'Total Refs.')\n",
            "(0.00012545280569200795, 'pages')\n",
            "(0.0006204784080263376, 'nb_authors')\n",
            "(0.0025953986010787524, 'index_length')\n",
            "(0.00012594789032857994, 'fc_pop')\n",
            "(0.007116991167015546, 'nb_references')\n",
            "(0.00018385564986111736, 'fos_pop')\n",
            "(4.132457244272961e-05, 'Australia')\n",
            "(1.5526785083907115e-05, 'Austria')\n",
            "(0.0, 'Brazil')\n",
            "(-2.258285745048125e-06, 'Canada')\n",
            "(6.5675622523666275e-06, 'Chile')\n",
            "(7.580694566165327e-07, 'China')\n",
            "(-9.544669678382056e-06, 'Czech Republic')\n",
            "(0.00010375054560160773, 'Denmark')\n",
            "(0.00025683415224990816, 'Egypt')\n",
            "(0.0001909043723419068, 'France')\n",
            "(0.0003236031206597359, 'Germany')\n",
            "(-7.598914378092977e-07, 'Hong Kong')\n",
            "(2.109548921498924e-06, 'Hungary')\n",
            "(1.7062331421030058e-05, 'India')\n",
            "(-7.993274177478689e-07, 'Indonesia')\n",
            "(0.0004196637527808608, 'Ireland')\n",
            "(5.142951988103817e-06, 'Italy')\n",
            "(-0.00017517942222122808, 'Japan')\n",
            "(0.0001952247328297263, 'Netherlands')\n",
            "(0.00018742479805378964, 'Poland')\n",
            "(-9.173603064369034e-07, 'Portugal')\n",
            "(1.674292854660586e-05, 'Russian Federation')\n",
            "(-1.8405077373166635e-06, 'Serbia')\n",
            "(0.0002572063461670075, 'Singapore')\n",
            "(1.3258392614446766e-05, 'Slovenia')\n",
            "(-2.859697920163021e-06, 'South Africa')\n",
            "(-2.702917246822931e-05, 'South Korea')\n",
            "(5.091135330323614e-06, 'Spain')\n",
            "(9.384430109655618e-06, 'Sweden')\n",
            "(0.0003371488931447305, 'Switzerland')\n",
            "(0.00019517582824274355, 'Taiwan')\n",
            "(-1.3293342077089893e-06, 'Turkey')\n",
            "(1.9037260858151778e-07, 'Ukraine')\n",
            "(6.152279742559904e-07, 'United Arab Emirates')\n",
            "(0.00045377816076146095, 'United Kingdom')\n",
            "(0.0007302408969038818, 'United States')\n"
          ],
          "name": "stdout"
        }
      ]
    },
    {
      "cell_type": "markdown",
      "metadata": {
        "id": "8iAKmSdrGyMz"
      },
      "source": [
        "# **Additional stuff**"
      ]
    },
    {
      "cell_type": "code",
      "metadata": {
        "colab": {
          "base_uri": "https://localhost:8080/",
          "height": 867
        },
        "id": "MqtV94ZNHEcl",
        "outputId": "2a673b13-a4c4-434f-c1e8-a20e46043e40"
      },
      "source": [
        "import seaborn as sns\n",
        "import matplotlib\n",
        "#Using Pearson Correlation\n",
        "plt.figure(figsize=(18,15))\n",
        "cor = col_data.corr()\n",
        "sns.heatmap(cor, annot=True, cmap=\"YlGnBu\")\n",
        "plt.show()"
      ],
      "execution_count": 28,
      "outputs": [
        {
          "output_type": "display_data",
          "data": {
            "image/png": "[encoded data removed]",
            "text/plain": [
              "<Figure size 1296x1080 with 2 Axes>"
            ]
          },
          "metadata": {
            "tags": [],
            "needs_background": "light"
          }
        }
      ]
    }
  ]
}