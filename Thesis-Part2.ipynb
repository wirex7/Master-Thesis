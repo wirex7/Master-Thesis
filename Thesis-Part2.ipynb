{
  "nbformat": 4,
  "nbformat_minor": 0,
  "metadata": {
    "colab": {
      "name": "MémoireFinal.ipynb",
      "provenance": [],
      "collapsed_sections": []
    },
    "kernelspec": {
      "display_name": "Python 3",
      "name": "python3"
    },
    "language_info": {
      "name": "python"
    }
  },
  "cells": [
    {
      "cell_type": "code",
      "metadata": {
        "id": "noOpkaCCjdbT"
      },
      "source": [
        "import pandas as pd\n",
        "import numpy as np\n",
        "import json"
      ],
      "execution_count": null,
      "outputs": []
    },
    {
      "cell_type": "code",
      "metadata": {
        "colab": {
          "base_uri": "https://localhost:8080/"
        },
        "id": "wMBTo2FKjjyL",
        "outputId": "51605b3a-f60e-4274-91c2-fdebfd014391"
      },
      "source": [
        "from google.colab import drive\n",
        "drive.mount('/content/drive')"
      ],
      "execution_count": null,
      "outputs": [
        {
          "output_type": "stream",
          "text": [
            "Mounted at /content/drive\n"
          ],
          "name": "stdout"
        }
      ]
    },
    {
      "cell_type": "code",
      "metadata": {
        "colab": {
          "base_uri": "https://localhost:8080/"
        },
        "id": "ayP6Cb6EjmFG",
        "outputId": "b0cde9d3-40d0-4ff9-ae5f-22fe8029a5e8"
      },
      "source": [
        "copied_path = 'drive/MyDrive/Merged.csv' #remove ‘content/’ from path then use \n",
        "data = pd.read_csv(copied_path,dtype={'Sourceid':np.object_})\n",
        "data = data.drop(['Unnamed: 0','alias_ids'], axis=1)"
      ],
      "execution_count": null,
      "outputs": [
        {
          "output_type": "stream",
          "text": [
            "/usr/local/lib/python3.7/dist-packages/IPython/core/interactiveshell.py:2718: DtypeWarning: Columns (4,8,9,16,27,28,29,36,38,44) have mixed types.Specify dtype option on import or set low_memory=False.\n",
            "  interactivity=interactivity, compiler=compiler, result=result)\n"
          ],
          "name": "stderr"
        }
      ]
    },
    {
      "cell_type": "code",
      "metadata": {
        "colab": {
          "base_uri": "https://localhost:8080/"
        },
        "id": "bX8isTku_Aew",
        "outputId": "1cc318bc-7993-4560-a8ef-3923f3abfdbf"
      },
      "source": [
        "#Changing the 'fos' type\n",
        "import ast\n",
        "for i in range(len(data['fos'])):\n",
        "  if isinstance(data['fos'][i],str) and len(data['fos'][i]) > 10:\n",
        "    data['fos'][i] = ast.literal_eval(data['fos'][i])\n"
      ],
      "execution_count": null,
      "outputs": [
        {
          "output_type": "stream",
          "text": [
            "/usr/local/lib/python3.7/dist-packages/ipykernel_launcher.py:4: SettingWithCopyWarning: \n",
            "A value is trying to be set on a copy of a slice from a DataFrame\n",
            "\n",
            "See the caveats in the documentation: https://pandas.pydata.org/pandas-docs/stable/user_guide/indexing.html#returning-a-view-versus-a-copy\n",
            "  after removing the cwd from sys.path.\n"
          ],
          "name": "stderr"
        }
      ]
    },
    {
      "cell_type": "code",
      "metadata": {
        "colab": {
          "base_uri": "https://localhost:8080/"
        },
        "id": "0DbQyCNKFei_",
        "outputId": "434dd6ed-908e-49f0-bc11-f8bfb9181355"
      },
      "source": [
        "#Changing the reference type\n",
        "for i in range(len(data['references'])):\n",
        "  try:\n",
        "    data['references'][i] = json.loads(data['references'][i])\n",
        "  except:\n",
        "    pass\n"
      ],
      "execution_count": null,
      "outputs": [
        {
          "output_type": "stream",
          "text": [
            "/usr/local/lib/python3.7/dist-packages/ipykernel_launcher.py:4: SettingWithCopyWarning: \n",
            "A value is trying to be set on a copy of a slice from a DataFrame\n",
            "\n",
            "See the caveats in the documentation: https://pandas.pydata.org/pandas-docs/stable/user_guide/indexing.html#returning-a-view-versus-a-copy\n",
            "  after removing the cwd from sys.path.\n"
          ],
          "name": "stderr"
        }
      ]
    },
    {
      "cell_type": "code",
      "metadata": {
        "id": "uaIIH0AMr4uL"
      },
      "source": [
        "#Creating new column with references\n",
        "liste1=[]\n",
        "for i in range(len(data['references'])):\n",
        "  if type(data['references'][i]) == list:\n",
        "    liste1.append(len(data['references'][i]))\n",
        "  else:\n",
        "    liste1.append(\"NaN\")\n",
        "data['nb_references'] = liste1"
      ],
      "execution_count": null,
      "outputs": []
    },
    {
      "cell_type": "code",
      "metadata": {
        "id": "jFVD3snUBIUl"
      },
      "source": [
        "#Extracting the 'fos' with higher weight\n",
        "liste4 = []\n",
        "s = 0\n",
        "for i in range(len(data['fos'])):\n",
        "  if type(data['fos'][i]) == list:\n",
        "    v = dict(ChainMap(*data['fos'][i]))\n",
        "    g = sorted(v, key=v.get, reverse=True)[:1][0]\n",
        "    liste4.append(g)\n",
        "  else:\n",
        "    liste4.append(\"NaN\")\n",
        "data['Main_fos'] = liste4"
      ],
      "execution_count": null,
      "outputs": []
    },
    {
      "cell_type": "code",
      "metadata": {
        "id": "wVNfLUSQOTQO"
      },
      "source": [
        "data.to_csv('FinalDataSet.csv')"
      ],
      "execution_count": null,
      "outputs": []
    }
  ]
}