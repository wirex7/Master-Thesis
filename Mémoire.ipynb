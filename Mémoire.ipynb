{
  "nbformat": 4,
  "nbformat_minor": 0,
  "metadata": {
    "colab": {
      "name": "Mémoire.ipynb",
      "provenance": [],
      "collapsed_sections": []
    },
    "kernelspec": {
      "name": "python3",
      "display_name": "Python 3"
    },
    "language_info": {
      "name": "python"
    }
  },
  "cells": [
    {
      "cell_type": "code",
      "metadata": {
        "id": "WbhVv9-21u-N"
      },
      "source": [
        "import pandas as pd"
      ],
      "execution_count": 1,
      "outputs": []
    },
    {
      "cell_type": "code",
      "metadata": {
        "colab": {
          "base_uri": "https://localhost:8080/"
        },
        "id": "bpaalfslBy8C",
        "outputId": "c6af7005-a0d5-4357-fb34-a9acd03ac6eb"
      },
      "source": [
        "from google.colab import drive\n",
        "drive.mount('/content/drive')"
      ],
      "execution_count": 2,
      "outputs": [
        {
          "output_type": "stream",
          "text": [
            "Mounted at /content/drive\n"
          ],
          "name": "stdout"
        }
      ]
    },
    {
      "cell_type": "markdown",
      "metadata": {
        "id": "l1kGr61hDV3c"
      },
      "source": [
        "# **Loading Files** "
      ]
    },
    {
      "cell_type": "code",
      "metadata": {
        "id": "EbMouXNVCHqa"
      },
      "source": [
        "copied_path = 'drive/MyDrive/bon2.011' #remove ‘content/’ from path then use \n",
        "data = pd.read_json(copied_path)"
      ],
      "execution_count": null,
      "outputs": []
    },
    {
      "cell_type": "code",
      "metadata": {
        "id": "m081ixsjKI29"
      },
      "source": [
        "copied_path2 = 'drive/MyDrive/scia.xlsx' \n",
        "data2 = pd.read_excel(copied_path2)"
      ],
      "execution_count": null,
      "outputs": []
    },
    {
      "cell_type": "markdown",
      "metadata": {
        "id": "i5MHGBB6DFL6"
      },
      "source": [
        "# **Transformations**"
      ]
    },
    {
      "cell_type": "code",
      "metadata": {
        "id": "8XVU8asO3Pdx"
      },
      "source": [
        "t = 0\n",
        "liste = []\n",
        "for i in range(len(data)):\n",
        "  ###Création d'une liste qui ne contient que le nom de la conférence/ du journal pour pouvoir merge les 2 datasets\n",
        "    liste.append(data['venue'][t]['raw'])\n",
        "    t+=1\n",
        "data[\"Title\"] = liste\n"
      ],
      "execution_count": null,
      "outputs": []
    },
    {
      "cell_type": "code",
      "metadata": {
        "colab": {
          "base_uri": "https://localhost:8080/"
        },
        "id": "Ua_SphEjK-5m",
        "outputId": "3130360b-8545-479e-ba15-1691fd6f7043"
      },
      "source": [
        "#Fusion des datasets\n",
        "merge = pd.merge(data,\n",
        "                 data2,\n",
        "                 on='Title')\n",
        "len(merge) ###len sert à voir combien de lignes supplémentaires il y a depuis le changement des noms de l'excel"
      ],
      "execution_count": null,
      "outputs": [
        {
          "output_type": "execute_result",
          "data": {
            "text/plain": [
              "91860"
            ]
          },
          "metadata": {
            "tags": []
          },
          "execution_count": 6
        }
      ]
    },
    {
      "cell_type": "code",
      "metadata": {
        "id": "L8xkMP3XLnhw"
      },
      "source": [
        "test = merge.sort_values(by='n_citation',ascending=False) ###Trier par le nombre de citations"
      ],
      "execution_count": null,
      "outputs": []
    },
    {
      "cell_type": "code",
      "metadata": {
        "id": "pnZPuqe5G0C1"
      },
      "source": [
        "###Suppression des valeurs étranges dans le nombre de pages\n",
        "test = test[test.page_end != '']\n",
        "index = test[~test.page_end.str.contains('|'.join(['-']))]\n",
        "indexed = index.reset_index(drop=True)"
      ],
      "execution_count": null,
      "outputs": []
    },
    {
      "cell_type": "code",
      "metadata": {
        "id": "py5j7SdKEnwc"
      },
      "source": [
        "###Création de la colonne qui retourne le nombre de pages de l'article\n",
        "v = 0\n",
        "liste2 = []\n",
        "for i in range(len(indexed)):\n",
        "  if indexed['page_end'][v] != '':\n",
        "    liste2.append(int(indexed['page_end'][v]) - int(indexed['page_start'][v]) +1)\n",
        "    v+=1\n",
        "indexed['pages'] = liste2\n",
        "indexed = indexed.drop(['page_end','page_start'], axis=1)"
      ],
      "execution_count": null,
      "outputs": []
    },
    {
      "cell_type": "code",
      "metadata": {
        "id": "ldBjiHjvSlkc"
      },
      "source": [
        "###Création de la colonne du nombre d'auteurs\n",
        "s = 0\n",
        "liste3=[]\n",
        "for i in range(len(indexed)):\n",
        "  liste3.append(len(indexed['authors'][s]))\n",
        "  s+=1\n",
        "indexed['nb_authors'] = liste3"
      ],
      "execution_count": null,
      "outputs": []
    },
    {
      "cell_type": "code",
      "metadata": {
        "id": "3mcmp8F8TKxb"
      },
      "source": [
        "###Création d'une liste avec le premier auteur\n",
        "a = 0\n",
        "liste4 = []\n",
        "for i in range(len(indexed)):\n",
        "  liste4.append(indexed['authors'][a][0]['name']) ##Remplacer name par id pour avoir l'id de l'auteur\n",
        "  a+=1\n",
        "indexed['author1'] = liste4\n"
      ],
      "execution_count": null,
      "outputs": []
    },
    {
      "cell_type": "markdown",
      "metadata": {
        "id": "-qSYKwFRdhlm"
      },
      "source": [
        "# **Dealing with stop-words**"
      ]
    },
    {
      "cell_type": "code",
      "metadata": {
        "id": "jXNxlaYyU-Gm"
      },
      "source": [
        "###Pour trouver tous les mots inutiles, je crée des listes des mots trouvés sur internet\n",
        "r =\"\"\"a\n",
        "about\n",
        "above\n",
        "across\n",
        "after\n",
        "afterwards\n",
        "again\n",
        "against\n",
        "all\n",
        "almost\n",
        "alone\n",
        "along\n",
        "already\n",
        "also\n",
        "although\n",
        "always\n",
        "am\n",
        "among\n",
        "amongst\n",
        "amoungst\n",
        "amount\n",
        "an\n",
        "and\n",
        "another\n",
        "any\n",
        "anyhow\n",
        "anyone\n",
        "anything\n",
        "anyway\n",
        "anywhere\n",
        "are\n",
        "around\n",
        "as\n",
        "at\n",
        "back\n",
        "be\n",
        "became\n",
        "because\n",
        "become\n",
        "becomes\n",
        "becoming\n",
        "been\n",
        "before\n",
        "beforehand\n",
        "behind\n",
        "being\n",
        "below\n",
        "beside\n",
        "besides\n",
        "between\n",
        "beyond\n",
        "bill\n",
        "both\n",
        "bottom\n",
        "but\n",
        "by\n",
        "call\n",
        "can\n",
        "cannot\n",
        "cant\n",
        "co\n",
        "con\n",
        "could\n",
        "couldnt\n",
        "cry\n",
        "de\n",
        "describe\n",
        "detail\n",
        "do\n",
        "done\n",
        "down\n",
        "due\n",
        "during\n",
        "each\n",
        "eg\n",
        "eight\n",
        "either\n",
        "eleven\n",
        "else\n",
        "elsewhere\n",
        "empty\n",
        "enough\n",
        "etc\n",
        "even\n",
        "ever\n",
        "every\n",
        "everyone\n",
        "everything\n",
        "everywhere\n",
        "except\n",
        "few\n",
        "fifteen\n",
        "fify\n",
        "fill\n",
        "find\n",
        "fire\n",
        "first\n",
        "five\n",
        "for\n",
        "former\n",
        "formerly\n",
        "forty\n",
        "found\n",
        "four\n",
        "from\n",
        "front\n",
        "full\n",
        "further\n",
        "get\n",
        "give\n",
        "go\n",
        "had\n",
        "has\n",
        "hasnt\n",
        "have\n",
        "he\n",
        "hence\n",
        "her\n",
        "here\n",
        "hereafter\n",
        "hereby\n",
        "herein\n",
        "hereupon\n",
        "hers\n",
        "herse\"\n",
        "him\n",
        "himse\"\n",
        "his\n",
        "how\n",
        "however\n",
        "hundred\n",
        "i\n",
        "ie\n",
        "if\n",
        "in\n",
        "inc\n",
        "indeed\n",
        "interest\n",
        "into\n",
        "is\n",
        "it\n",
        "its\n",
        "itse\"\n",
        "keep\n",
        "last\n",
        "latter\n",
        "latterly\n",
        "least\n",
        "less\n",
        "ltd\n",
        "made\n",
        "many\n",
        "may\n",
        "me\n",
        "meanwhile\n",
        "might\n",
        "mill\n",
        "mine\n",
        "more\n",
        "moreover\n",
        "most\n",
        "mostly\n",
        "move\n",
        "much\n",
        "must\n",
        "my\n",
        "myse\"\n",
        "name\n",
        "namely\n",
        "neither\n",
        "never\n",
        "nevertheless\n",
        "next\n",
        "nine\n",
        "no\n",
        "nobody\n",
        "none\n",
        "noone\n",
        "nor\n",
        "not\n",
        "nothing\n",
        "now\n",
        "nowhere\n",
        "of\n",
        "off\n",
        "often\n",
        "on\n",
        "once\n",
        "one\n",
        "only\n",
        "onto\n",
        "or\n",
        "other\n",
        "others\n",
        "otherwise\n",
        "our\n",
        "ours\n",
        "ourselves\n",
        "out\n",
        "over\n",
        "own\n",
        "part\n",
        "per\n",
        "perhaps\n",
        "please\n",
        "put\n",
        "rather\n",
        "re\n",
        "same\n",
        "see\n",
        "seem\n",
        "seemed\n",
        "seeming\n",
        "seems\n",
        "serious\n",
        "several\n",
        "she\n",
        "should\n",
        "show\n",
        "side\n",
        "since\n",
        "sincere\n",
        "six\n",
        "sixty\n",
        "so\n",
        "some\n",
        "somehow\n",
        "someone\n",
        "something\n",
        "sometime\n",
        "sometimes\n",
        "somewhere\n",
        "still\n",
        "such\n",
        "system\n",
        "take\n",
        "ten\n",
        "than\n",
        "that\n",
        "the\n",
        "their\n",
        "them\n",
        "themselves\n",
        "then\n",
        "thence\n",
        "there\n",
        "thereafter\n",
        "thereby\n",
        "therefore\n",
        "therein\n",
        "thereupon\n",
        "these\n",
        "they\n",
        "thick\n",
        "thin\n",
        "third\n",
        "this\n",
        "those\n",
        "though\n",
        "three\n",
        "through\n",
        "throughout\n",
        "thru\n",
        "thus\n",
        "to\n",
        "together\n",
        "too\n",
        "top\n",
        "toward\n",
        "towards\n",
        "twelve\n",
        "twenty\n",
        "two\n",
        "un\n",
        "under\n",
        "until\n",
        "up\n",
        "upon\n",
        "us\n",
        "very\n",
        "via\n",
        "was\n",
        "we\n",
        "well\n",
        "were\n",
        "what\n",
        "whatever\n",
        "when\n",
        "whence\n",
        "whenever\n",
        "where\n",
        "whereafter\n",
        "whereas\n",
        "whereby\n",
        "wherein\n",
        "whereupon\n",
        "wherever\n",
        "whether\n",
        "which\n",
        "while\n",
        "whither\n",
        "who\n",
        "whoever\n",
        "whole\n",
        "whom\n",
        "whose\n",
        "why\n",
        "will\n",
        "with\n",
        "within\n",
        "without\n",
        "would\n",
        "yet\n",
        "you\n",
        "your\n",
        "yours\n",
        "yourself\n",
        "yourselves\"\"\"\n",
        "r = r.split('\\n')\n",
        "r2 = [\"a\", \"about\", \"above\", \"above\", \"across\", \"after\", \"afterwards\", \"again\", \"against\", \"all\", \"almost\", \"alone\", \"along\", \"already\", \"also\",\"although\",\"always\",\"am\",\"among\", \"amongst\", \"amoungst\", \"amount\",  \"an\", \"and\", \"another\", \"any\",\"anyhow\",\"anyone\",\"anything\",\"anyway\", \"anywhere\", \"are\", \"around\", \"as\",  \"at\", \"back\",\"be\",\"became\", \"because\",\"become\",\"becomes\", \"becoming\", \"been\", \"before\", \"beforehand\", \"behind\", \"being\", \"below\", \"beside\", \"besides\", \"between\", \"beyond\", \"bill\", \"both\", \"bottom\",\"but\", \"by\", \"call\", \"can\", \"cannot\", \"cant\", \"co\", \"con\", \"could\", \"couldnt\", \"cry\", \"de\", \"describe\", \"detail\", \"do\", \"done\", \"down\", \"due\", \"during\", \"each\", \"eg\", \"eight\", \"either\", \"eleven\",\"else\", \"elsewhere\", \"empty\", \"enough\", \"etc\", \"even\", \"ever\", \"every\", \"everyone\", \"everything\", \"everywhere\", \"except\", \"few\", \"fifteen\", \"fify\", \"fill\", \"find\", \"fire\", \"first\", \"five\", \"for\", \"former\", \"formerly\", \"forty\", \"found\", \"four\", \"from\", \"front\", \"full\", \"further\", \"get\", \"give\", \"go\", \"had\", \"has\", \"hasnt\", \"have\", \"he\", \"hence\", \"her\", \"here\", \"hereafter\", \"hereby\", \"herein\", \"hereupon\", \"hers\", \"herself\", \"him\", \"himself\", \"his\", \"how\", \"however\", \"hundred\", \"ie\", \"if\", \"in\", \"inc\", \"indeed\", \"interest\", \"into\", \"is\", \"it\", \"its\", \"itself\", \"keep\", \"last\", \"latter\", \"latterly\", \"least\", \"less\", \"ltd\", \"made\", \"many\", \"may\", \"me\", \"meanwhile\", \"might\", \"mill\", \"mine\", \"more\", \"moreover\", \"most\", \"mostly\", \"move\", \"much\", \"must\", \"my\", \"myself\", \"name\", \"namely\", \"neither\", \"never\", \"nevertheless\", \"next\", \"nine\", \"no\", \"nobody\", \"none\", \"noone\", \"nor\", \"not\", \"nothing\", \"now\", \"nowhere\", \"of\", \"off\", \"often\", \"on\", \"once\", \"one\", \"only\", \"onto\", \"or\", \"other\", \"others\", \"otherwise\", \"our\", \"ours\", \"ourselves\", \"out\", \"over\", \"own\",\"part\", \"per\", \"perhaps\", \"please\", \"put\", \"rather\", \"re\", \"same\", \"see\", \"seem\", \"seemed\", \"seeming\", \"seems\", \"serious\", \"several\", \"she\", \"should\", \"show\", \"side\", \"since\", \"sincere\", \"six\", \"sixty\", \"so\", \"some\", \"somehow\", \"someone\", \"something\", \"sometime\", \"sometimes\", \"somewhere\", \"still\", \"such\", \"system\", \"take\", \"ten\", \"than\", \"that\", \"the\", \"their\", \"them\", \"themselves\", \"then\", \"thence\", \"there\", \"thereafter\", \"thereby\", \"therefore\", \"therein\", \"thereupon\", \"these\", \"they\", \"thick\", \"thin\", \"third\", \"this\", \"those\", \"though\", \"three\", \"through\", \"throughout\", \"thru\", \"thus\", \"to\", \"together\", \"too\", \"top\", \"toward\", \"towards\", \"twelve\", \"twenty\", \"two\", \"un\", \"under\", \"until\", \"up\", \"upon\", \"us\", \"very\", \"via\", \"was\", \"we\", \"well\", \"were\", \"what\", \"whatever\", \"when\", \"whence\", \"whenever\", \"where\", \"whereafter\", \"whereas\", \"whereby\", \"wherein\", \"whereupon\", \"wherever\", \"whether\", \"which\", \"while\", \"whither\", \"who\", \"whoever\", \"whole\", \"whom\", \"whose\", \"why\", \"will\", \"with\", \"within\", \"without\", \"would\", \"yet\", \"you\", \"your\", \"yours\", \"yourself\", \"yourselves\", \"the\"]\n",
        "r3 = \"\"\"a’s, able, about, above, according, accordingly, across, actually, after, afterwards, again, against, ain’t, all, allow, allows, almost, alone, along, already, also, although, always, am, among, amongst, an, and, another, any, anybody, anyhow, anyone, anything, anyway, anyways, anywhere, apart, appear, appreciate, appropriate, are, aren’t, around, as, aside, ask, asking, associated, at, available, away, awfully, be, became, because, become, becomes, becoming, been, before, beforehand, behind, being, believe, below, beside, besides, best, better, between, beyond, both, brief, but, by, c’mon, c’s, came, can, can’t, cannot, cant, cause, causes, certain, certainly, changes, clearly, co, com, come, comes, concerning, consequently, consider, considering, contain, containing, contains, corresponding, could, couldn’t, course, currently, definitely, described, despite, did, didn’t, different, do, does, doesn’t, doing, don’t, done, down, downwards, during, each, edu, eg, eight, either, else, elsewhere, enough, entirely, especially, et, etc, even, ever, every, everybody, everyone, everything, everywhere, ex, exactly, example, except, far, few, fifth, first, five, followed, following, follows, for, former, formerly, forth, four, from, further, furthermore, get, gets, getting, given, gives, go, goes, going, gone, got, gotten, greetings, had, hadn’t, happens, hardly, has, hasn’t, have, haven’t, having, he, he’s, hello, help, hence, her, here, here’s, hereafter, hereby, herein, hereupon, hers, herself, hi, him, himself, his, hither, hopefully, how, howbeit, however, i’d, i’ll, i’m, i’ve, ie, if, ignored, immediate, in, inasmuch, inc, indeed, indicate, indicated, indicates, inner, insofar, instead, into, inward, is, isn’t, it, it’d, it’ll, it’s, its, itself, just, keep, keeps, kept, know, knows, known, last, lately, later, latter, latterly, least, less, lest, let, let’s, like, liked, likely, little, look, looking, looks, ltd, mainly, many, may, maybe, me, mean, meanwhile, merely, might, more, moreover, most, mostly, much, must, my, myself, name, namely, nd, near, nearly, necessary, need, needs, neither, never, nevertheless, new, next, nine, no, nobody, non, none, noone, nor, normally, not, nothing, novel, now, nowhere, obviously, of, off, often, oh, ok, okay, old, on, once, one, ones, only, onto, or, other, others, otherwise, ought, our, ours, ourselves, out, outside, over, overall, own, particular, particularly, per, perhaps, placed, please, plus, possible, presumably, probably, provides, que, quite, qv, rather, rd, re, really, reasonably, regarding, regardless, regards, relatively, respectively, right, said, same, saw, say, saying, says, second, secondly, see, seeing, seem, seemed, seeming, seems, seen, self, selves, sensible, sent, serious, seriously, seven, several, shall, she, should, shouldn’t, since, six, so, some, somebody, somehow, someone, something, sometime, sometimes, somewhat, somewhere, soon, sorry, specified, specify, specifying, still, sub, such, sup, sure, t’s, take, taken, tell, tends, th, than, thank, thanks, thanx, that, that’s, thats, the, their, theirs, them, themselves, then, thence, there, there’s, thereafter, thereby, therefore, therein, theres, thereupon, these, they, they’d, they’ll, they’re, they’ve, think, third, this, thorough, thoroughly, those, though, three, through, throughout, thru, thus, to, together, too, took, toward, towards, tried, tries, truly, try, trying, twice, two, un, under, unfortunately, unless, unlikely, until, unto, up, upon, us, use, used, useful, uses, using, usually, value, various, very, via, viz, vs, want, wants, was, wasn’t, way, we, we’d, we’ll, we’re, we’ve, welcome, well, went, were, weren’t, what, what’s, whatever, when, whence, whenever, where, where’s, whereafter, whereas, whereby, wherein, whereupon, wherever, whether, which, while, whither, who, who’s, whoever, whole, whom, whose, why, will, willing, wish, with, within, without, won’t, wonder, would, would, wouldn’t, yes, yet, you, you’d, you’ll, you’re, you’ve, your, yours, yourself, yourselves, zero\"\"\"\n",
        "r3 = r3.split(', ')\n",
        "### Création des listes avec majuscule en premiere lettre\n",
        "r4 = [word.capitalize() for word in r]\n",
        "r5 = [word.capitalize() for word in r2]\n",
        "r6 = [word.capitalize() for word in r3]\n",
        "stopwords = r+r2+r3+r4+r5+r6 ###Tous les stopwords en une seule liste"
      ],
      "execution_count": null,
      "outputs": []
    },
    {
      "cell_type": "code",
      "metadata": {
        "id": "k0m9VCBkXhoR"
      },
      "source": [
        "###Boucle qui supprime tous les mots du dataset qui sont dans la liste stopwords => Besoin du try except car erreur \"float\" difficile à localiser\n",
        "for t in range(len(indexed)):\n",
        "  try:\n",
        "    for k in list(indexed['indexed_abstract'][t]['InvertedIndex']):\n",
        "        if k in stopwords:\n",
        "          del indexed['indexed_abstract'][t]['InvertedIndex'][k]\n",
        "  except:\n",
        "    pass"
      ],
      "execution_count": null,
      "outputs": []
    },
    {
      "cell_type": "code",
      "metadata": {
        "id": "amKGmDjTYIyI"
      },
      "source": [
        "### Création de la colonne avec index_length (longueur de l'abstract)\n",
        "liste5 = []\n",
        "for i in range(len(indexed)):\n",
        "  try:\n",
        "    liste5.append(indexed['indexed_abstract'][i]['IndexLength'])\n",
        "  except:\n",
        "    liste5.append(\"NaN\")\n",
        "\n",
        "indexed['index_length'] = liste5"
      ],
      "execution_count": null,
      "outputs": []
    },
    {
      "cell_type": "code",
      "metadata": {
        "id": "1m_R9kZVWyud"
      },
      "source": [
        "### Changer l'index des abstract par leur nombre d'occurences, i.e si 'a':[1,2] => 'a':2 signifie que a se trouve 2 fois dans l'abstract\n",
        "for i in range(len(indexed)):\n",
        "  try:\n",
        "    for t in indexed['indexed_abstract'][i]['InvertedIndex']:\n",
        "        indexed['indexed_abstract'][i]['InvertedIndex'][t] = len(indexed['indexed_abstract'][i]['InvertedIndex'][t])\n",
        "  except:\n",
        "    pass"
      ],
      "execution_count": null,
      "outputs": []
    },
    {
      "cell_type": "code",
      "metadata": {
        "id": "YM_ErZuogz7q"
      },
      "source": [
        "### Isolation des mots les plus réccurents dans l'abstract\n",
        "liste6 = []\n",
        "for i in range(len(indexed)):\n",
        "  try:\n",
        "    my_keys = sorted(indexed['indexed_abstract'][i]['InvertedIndex'], key=indexed['indexed_abstract'][i]['InvertedIndex'].get, reverse=True)[:4]\n",
        "    liste6.append(my_keys)\n",
        "  except:\n",
        "    liste6.append([\"NaN\",\"NaN\",\"NaN\",\"NaN\"])\n",
        "indexed['most_common'] = liste6\n",
        "indexed[['first_common','second_common','third_common','fourth_common']] = pd.DataFrame(indexed.most_common.tolist(), index= indexed.index)"
      ],
      "execution_count": null,
      "outputs": []
    },
    {
      "cell_type": "code",
      "metadata": {
        "id": "adQbnRAUjBJx"
      },
      "source": [
        "indexed.to_csv('FinalData4corr.csv') ###Création du fichier csv du dataset nettoyé une première fois"
      ],
      "execution_count": null,
      "outputs": []
    }
  ]
}